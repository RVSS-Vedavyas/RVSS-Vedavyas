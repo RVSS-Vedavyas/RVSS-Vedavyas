{
 "cells": [
  {
   "cell_type": "code",
   "execution_count": 6,
   "id": "5317a565",
   "metadata": {},
   "outputs": [
    {
     "name": "stdout",
     "output_type": "stream",
     "text": [
      "worker data\n",
      "Show data\n"
     ]
    }
   ],
   "source": [
    "# Abstract class: contains an asbtrcat method.\n",
    "# Abstract Method:has declaration but no definition\n",
    "# Decorator: special functions which adds additional functionality to an existing function or code.\n",
    "\n",
    "# importing abstract base class(ABC)\n",
    "from abc import ABC, abstractmethod\n",
    "\n",
    "#Abstract Class\n",
    "class employee(ABC):\n",
    "    @abstractmethod                 # decorator\n",
    "    def data(self):              # Abstract Method\n",
    "        pass\n",
    "\n",
    "    @abstractmethod\n",
    "    def show(self):\n",
    "        pass\n",
    "# concrete class\n",
    "class worker(employee):\n",
    "    def data(self):\n",
    "        print(\"worker data\")\n",
    "    def show(self):\n",
    "        print(\"Show data\")\n",
    "\n",
    "vedavyas=worker()\n",
    "vedavyas.data()\n",
    "vedavyas.show()"
   ]
  },
  {
   "cell_type": "code",
   "execution_count": null,
   "id": "6467c233",
   "metadata": {},
   "outputs": [],
   "source": []
  }
 ],
 "metadata": {
  "kernelspec": {
   "display_name": "Python 3 (ipykernel)",
   "language": "python",
   "name": "python3"
  },
  "language_info": {
   "codemirror_mode": {
    "name": "ipython",
    "version": 3
   },
   "file_extension": ".py",
   "mimetype": "text/x-python",
   "name": "python",
   "nbconvert_exporter": "python",
   "pygments_lexer": "ipython3",
   "version": "3.8.13"
  }
 },
 "nbformat": 4,
 "nbformat_minor": 5
}
