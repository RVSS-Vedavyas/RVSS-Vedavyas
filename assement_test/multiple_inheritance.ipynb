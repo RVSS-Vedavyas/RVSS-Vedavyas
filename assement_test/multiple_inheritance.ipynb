{
 "cells": [
  {
   "cell_type": "code",
   "execution_count": 5,
   "id": "aabd7381",
   "metadata": {},
   "outputs": [
    {
     "name": "stdout",
     "output_type": "stream",
     "text": [
      "code is python . total experience 4 \n",
      "Role is wicket-keeper in team desepticons.\n",
      "vedavyas is engineer and a  sportsman.\n",
      "code is Python . total experience 4 \n",
      "Role is batsman in team ozonetel.\n"
     ]
    }
   ],
   "source": [
    "# multiple Inheritance : a child inherits multiple properties of the parent class.\n",
    "\n",
    "#parent class 1 :  engineer\n",
    "class engineer:\n",
    "    def __init__(self,p,e):\n",
    "        self.code = p\n",
    "        self.experience=e\n",
    "    def bio_data(self):\n",
    "        print(f\"code is {self.code} . total experience {self.experience} \")\n",
    "\n",
    "#parent class 2 :  spots\n",
    "class spots:\n",
    "    def __init__(self,t,r):\n",
    "        self.role=r\n",
    "        self.team=t\n",
    "    def printbio_data(self):\n",
    "        print(f\"Role is {self.role} in team {self.team}.\")\n",
    "\n",
    "#Child class :  player\n",
    "class player(engineer,spots):\n",
    "    def __init__(self,n,p,e,t,r):\n",
    "        engineer.__init__(self,p,e)\n",
    "        spots.__init__(self,t,r)\n",
    "        self.name=n\n",
    "    def printplayer(self):\n",
    "        print(f\"{self.name} is engineer and a  sportsman.\")\n",
    "\n",
    "\n",
    "a = engineer(\"python\",4)\n",
    "b = spots(\"desepticons\",\"wicket-keeper\")\n",
    "c = player(\"vedavyas\",\"Python\",4,\"ozonetel\",\"batsman\")\n",
    "\n",
    "a.bio_data()\n",
    "b.printbio_data()\n",
    "c.printplayer()\n",
    "c.bio_data()                #inheriting class engineer\n",
    "c.printbio_data()       "
   ]
  },
  {
   "cell_type": "code",
   "execution_count": null,
   "id": "c5f5f81e",
   "metadata": {},
   "outputs": [],
   "source": []
  }
 ],
 "metadata": {
  "kernelspec": {
   "display_name": "Python 3 (ipykernel)",
   "language": "python",
   "name": "python3"
  },
  "language_info": {
   "codemirror_mode": {
    "name": "ipython",
    "version": 3
   },
   "file_extension": ".py",
   "mimetype": "text/x-python",
   "name": "python",
   "nbconvert_exporter": "python",
   "pygments_lexer": "ipython3",
   "version": "3.8.13"
  }
 },
 "nbformat": 4,
 "nbformat_minor": 5
}
