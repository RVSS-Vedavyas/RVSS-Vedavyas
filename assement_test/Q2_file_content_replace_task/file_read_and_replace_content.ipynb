{
 "cells": [
  {
   "cell_type": "code",
   "execution_count": 4,
   "id": "d371102f",
   "metadata": {},
   "outputs": [
    {
     "name": "stdout",
     "output_type": "stream",
     "text": [
      "This is a screening assignment\n",
      "\n",
      "\n",
      "This is a screening assignment\n",
      "\n",
      "\n"
     ]
    }
   ],
   "source": [
    "def readandreplace(filename,original,replace):\n",
    "\n",
    "    with open(filename,\"r\") as file_s:\n",
    "        data=file_s.read()                  # reading src file\n",
    "        print(data)\n",
    "        data=data.replace(original,replace)\n",
    "    with open(filename, \"w\") as file:\n",
    "        file.write(data)\n",
    "    with open(filename,\"r\") as file_m:\n",
    "        print(file_m.read())                # reading modified file\n",
    "\n",
    "filename=\"example.txt\"\n",
    "original=\"placement\"\n",
    "replace=\"screening\"\n",
    "\n",
    "readandreplace(filename,original,replace)"
   ]
  },
  {
   "cell_type": "code",
   "execution_count": null,
   "id": "bf753879",
   "metadata": {},
   "outputs": [],
   "source": []
  }
 ],
 "metadata": {
  "kernelspec": {
   "display_name": "Python 3 (ipykernel)",
   "language": "python",
   "name": "python3"
  },
  "language_info": {
   "codemirror_mode": {
    "name": "ipython",
    "version": 3
   },
   "file_extension": ".py",
   "mimetype": "text/x-python",
   "name": "python",
   "nbconvert_exporter": "python",
   "pygments_lexer": "ipython3",
   "version": "3.8.13"
  }
 },
 "nbformat": 4,
 "nbformat_minor": 5
}
