{
 "cells": [
  {
   "cell_type": "markdown",
   "id": "c0d64d2b",
   "metadata": {},
   "source": [
    "1. What does an empty dictionary's code look like?"
   ]
  },
  {
   "cell_type": "markdown",
   "id": "95cf4d6b",
   "metadata": {},
   "source": [
    "A.\n",
    "we can create an empty dictonary in 2 ways \n",
    "i) empty={}\n",
    "\n",
    "ii)empty_dict=dict()\n",
    "\n",
    "here empty is the variable name"
   ]
  },
  {
   "cell_type": "code",
   "execution_count": 1,
   "id": "f6da8156",
   "metadata": {},
   "outputs": [
    {
     "name": "stdout",
     "output_type": "stream",
     "text": [
      "<class 'dict'>\n",
      "<class 'dict'>\n"
     ]
    }
   ],
   "source": [
    "#proof\n",
    "empty={}\n",
    "print(type(empty))\n",
    "empty_dict=dict()\n",
    "print(type(empty_dict))"
   ]
  },
  {
   "cell_type": "markdown",
   "id": "f498f80d",
   "metadata": {},
   "source": [
    " "
   ]
  },
  {
   "cell_type": "markdown",
   "id": "9cec79ef",
   "metadata": {},
   "source": [
    "2. What is the value of a dictionary value with the key 'foo' and the value 42?"
   ]
  },
  {
   "cell_type": "markdown",
   "id": "52faaf60",
   "metadata": {},
   "source": [
    "A. {'foo':42}"
   ]
  },
  {
   "cell_type": "markdown",
   "id": "600ab861",
   "metadata": {},
   "source": [
    " "
   ]
  },
  {
   "cell_type": "markdown",
   "id": "d7749bf5",
   "metadata": {},
   "source": [
    "3. What is the most significant distinction between a dictionary and a list?"
   ]
  },
  {
   "cell_type": "markdown",
   "id": "b702f25b",
   "metadata": {},
   "source": [
    "A. dictonary supports only key value pairs of content. where as u can push or add any kinds of data to list\n",
    "dictonay creation uses {}. where as for lists creation [] is used. \n",
    "dictonary is an unorderd structure .where as a list is an ordered structure"
   ]
  },
  {
   "cell_type": "markdown",
   "id": "ea7550fc",
   "metadata": {},
   "source": [
    " "
   ]
  },
  {
   "cell_type": "markdown",
   "id": "ace7ab76",
   "metadata": {},
   "source": [
    "4. What happens if you try to access spam['foo'] if spam is {'bar': 100}?"
   ]
  },
  {
   "cell_type": "markdown",
   "id": "7643096a",
   "metadata": {},
   "source": [
    "A. you will encounter a key error if we use spam['foo'] instead of spam['bar']"
   ]
  },
  {
   "cell_type": "code",
   "execution_count": 5,
   "id": "aa60a3e5",
   "metadata": {},
   "outputs": [
    {
     "ename": "KeyError",
     "evalue": "'foo'",
     "output_type": "error",
     "traceback": [
      "\u001b[0;31m---------------------------------------------------------------------------\u001b[0m",
      "\u001b[0;31mKeyError\u001b[0m                                  Traceback (most recent call last)",
      "\u001b[0;32m/tmp/ipykernel_29893/1717283131.py\u001b[0m in \u001b[0;36m<module>\u001b[0;34m\u001b[0m\n\u001b[1;32m      1\u001b[0m \u001b[0mspam\u001b[0m\u001b[0;34m=\u001b[0m\u001b[0;34m{\u001b[0m\u001b[0;34m'bar'\u001b[0m\u001b[0;34m:\u001b[0m\u001b[0;36m100\u001b[0m\u001b[0;34m}\u001b[0m\u001b[0;34m\u001b[0m\u001b[0;34m\u001b[0m\u001b[0m\n\u001b[0;32m----> 2\u001b[0;31m \u001b[0mspam\u001b[0m\u001b[0;34m[\u001b[0m\u001b[0;34m'foo'\u001b[0m\u001b[0;34m]\u001b[0m\u001b[0;34m\u001b[0m\u001b[0;34m\u001b[0m\u001b[0m\n\u001b[0m",
      "\u001b[0;31mKeyError\u001b[0m: 'foo'"
     ]
    }
   ],
   "source": [
    "#proof\n",
    "spam={'bar':100}\n",
    "spam['foo']"
   ]
  },
  {
   "cell_type": "markdown",
   "id": "dc22b7e9",
   "metadata": {},
   "source": [
    " "
   ]
  },
  {
   "cell_type": "markdown",
   "id": "a204e046",
   "metadata": {},
   "source": [
    "5.If a dictionary is stored in spam, what is the difference between the expressions 'cat' in spam and 'cat' in spam.keys()?"
   ]
  },
  {
   "cell_type": "markdown",
   "id": "08f345bc",
   "metadata": {},
   "source": [
    "A.There is no difference . The function checks whether a value exits as a key in the dictionary or not"
   ]
  },
  {
   "cell_type": "markdown",
   "id": "f472529b",
   "metadata": {},
   "source": [
    " "
   ]
  },
  {
   "cell_type": "markdown",
   "id": "bcdd2cfc",
   "metadata": {},
   "source": [
    "6. If a dictionary is stored in spam, what is the difference between the expressions 'cat' in spam and 'cat' in spam.values()?"
   ]
  },
  {
   "cell_type": "markdown",
   "id": "6a1e9252",
   "metadata": {},
   "source": [
    "A. 'cat' in spam checks whether there is a 'cat' key in the dictionary, if 'cat' in spam.values() checks whether there is a value 'cat' for one of the keys in spam"
   ]
  },
  {
   "cell_type": "markdown",
   "id": "84bf9738",
   "metadata": {},
   "source": [
    " "
   ]
  },
  {
   "cell_type": "markdown",
   "id": "03c843bd",
   "metadata": {},
   "source": [
    "7. What is a shortcut for the following code?\n",
    "\n",
    "if 'color' not in spam:\n",
    "\n",
    "spam['color'] = 'black'"
   ]
  },
  {
   "cell_type": "markdown",
   "id": "4080ca36",
   "metadata": {},
   "source": [
    "A. spam.setdefault('color','black')"
   ]
  },
  {
   "cell_type": "markdown",
   "id": "b4f8b2fa",
   "metadata": {},
   "source": [
    " "
   ]
  },
  {
   "cell_type": "markdown",
   "id": "98d0ea84",
   "metadata": {},
   "source": [
    "8. How do you \"pretty print\" dictionary values using which module and function?"
   ]
  },
  {
   "cell_type": "markdown",
   "id": "c608c482",
   "metadata": {},
   "source": [
    "A. normally pprint dosent beautify neasted dictonary. we need to use yaml .yaml.dump to \n",
    "beautify a nested dictonary"
   ]
  },
  {
   "cell_type": "code",
   "execution_count": 23,
   "id": "72aaf6e7",
   "metadata": {},
   "outputs": [],
   "source": [
    "#proof\n",
    "just_dict={\n",
    "    'person1':{\n",
    "        'name':'vedavyas',\n",
    "        'age':'24',\n",
    "        'work':'ineuron'\n",
    "    },\n",
    "    'person2':{\n",
    "        'name':'sai murali',\n",
    "        'age':'24',\n",
    "        'work':'android',\n",
    "    }\n",
    "}"
   ]
  },
  {
   "cell_type": "code",
   "execution_count": 24,
   "id": "91d7598f",
   "metadata": {},
   "outputs": [],
   "source": [
    "import pprint"
   ]
  },
  {
   "cell_type": "code",
   "execution_count": 25,
   "id": "3e3be5ab",
   "metadata": {},
   "outputs": [
    {
     "name": "stdout",
     "output_type": "stream",
     "text": [
      "{'person1': {'age': '24', 'name': 'vedavyas', 'work': 'ineuron'},\n",
      " 'person2': {'age': '24', 'name': 'sai murali', 'work': 'android'}}\n"
     ]
    }
   ],
   "source": [
    "pprint.pprint(just_dict)"
   ]
  },
  {
   "cell_type": "code",
   "execution_count": 26,
   "id": "f57ee570",
   "metadata": {},
   "outputs": [],
   "source": [
    "import json"
   ]
  },
  {
   "cell_type": "code",
   "execution_count": 27,
   "id": "c9b6e128",
   "metadata": {},
   "outputs": [
    {
     "data": {
      "text/plain": [
       "'{\"person1\": {\"name\": \"vedavyas\", \"age\": \"24\", \"work\": \"ineuron\"}, \"person2\": {\"name\": \"sai murali\", \"age\": \"24\", \"work\": \"android\"}}'"
      ]
     },
     "execution_count": 27,
     "metadata": {},
     "output_type": "execute_result"
    }
   ],
   "source": [
    "json.dumps(just_dict)"
   ]
  },
  {
   "cell_type": "code",
   "execution_count": 28,
   "id": "6a78a565",
   "metadata": {},
   "outputs": [],
   "source": [
    "import yaml"
   ]
  },
  {
   "cell_type": "code",
   "execution_count": 29,
   "id": "4a6d80a9",
   "metadata": {},
   "outputs": [
    {
     "name": "stdout",
     "output_type": "stream",
     "text": [
      "person1:\n",
      "  age: '24'\n",
      "  name: vedavyas\n",
      "  work: ineuron\n",
      "person2:\n",
      "  age: '24'\n",
      "  name: sai murali\n",
      "  work: android\n",
      "\n"
     ]
    }
   ],
   "source": [
    "print(yaml.dump(just_dict))"
   ]
  },
  {
   "cell_type": "code",
   "execution_count": null,
   "id": "5ad75602",
   "metadata": {},
   "outputs": [],
   "source": []
  }
 ],
 "metadata": {
  "kernelspec": {
   "display_name": "Python 3 (ipykernel)",
   "language": "python",
   "name": "python3"
  },
  "language_info": {
   "codemirror_mode": {
    "name": "ipython",
    "version": 3
   },
   "file_extension": ".py",
   "mimetype": "text/x-python",
   "name": "python",
   "nbconvert_exporter": "python",
   "pygments_lexer": "ipython3",
   "version": "3.9.7"
  }
 },
 "nbformat": 4,
 "nbformat_minor": 5
}
