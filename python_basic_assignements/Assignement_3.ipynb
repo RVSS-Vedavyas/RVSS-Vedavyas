{
 "cells": [
  {
   "cell_type": "markdown",
   "id": "43c56770",
   "metadata": {},
   "source": [
    "1. Why are functions advantageous to have in your programs?\n"
   ]
  },
  {
   "cell_type": "markdown",
   "id": "87902acc",
   "metadata": {},
   "source": [
    "A.\n",
    "1. function helps in moduling a given task\n",
    "2. functions helps in code reusability\n",
    "3. functions makes the code easy to understand\n",
    "4. helps in reducing the lines of code "
   ]
  },
  {
   "cell_type": "markdown",
   "id": "c7a47e88",
   "metadata": {},
   "source": [
    " "
   ]
  },
  {
   "cell_type": "markdown",
   "id": "65f999b0",
   "metadata": {},
   "source": [
    "2. When does the code in a function run: when it's specified or when it's called?"
   ]
  },
  {
   "cell_type": "markdown",
   "id": "120f2c28",
   "metadata": {},
   "source": [
    "A. the function doesnt run unless and until its gets called .\n",
    "in order to execute the statements written in a function it needs to be called as shown\n",
    "\n",
    "function_name(par1,par2...) here par1,par2 are optional "
   ]
  },
  {
   "cell_type": "markdown",
   "id": "fcbe2c26",
   "metadata": {},
   "source": [
    " "
   ]
  },
  {
   "cell_type": "markdown",
   "id": "f9f57c1c",
   "metadata": {},
   "source": [
    "3. What statement creates a function?\n"
   ]
  },
  {
   "cell_type": "markdown",
   "id": "8d7012cc",
   "metadata": {},
   "source": [
    "A. def is a keyword used for defining a function\n",
    "general form of a python function\n",
    "\n",
    "\n",
    "`\n",
    "def function_name(parameters):\n",
    "    '''\n",
    "    doc strings\n",
    "    '''\n",
    "    statements to execute\n",
    "    \n",
    "    return value\n",
    "`"
   ]
  },
  {
   "cell_type": "markdown",
   "id": "0116cc43",
   "metadata": {},
   "source": [
    " "
   ]
  },
  {
   "cell_type": "markdown",
   "id": "8499c9c3",
   "metadata": {},
   "source": [
    "4. What is the difference between a function and a function call?\n"
   ]
  },
  {
   "cell_type": "markdown",
   "id": "626aa44d",
   "metadata": {},
   "source": [
    "A.\n",
    "a function or function defination is nothing but a defination of some set of statements \n",
    "or a block of code written under a function name \n",
    "where as a function call is the trigger for that function defination content to execute"
   ]
  },
  {
   "cell_type": "markdown",
   "id": "44894983",
   "metadata": {},
   "source": [
    " "
   ]
  },
  {
   "cell_type": "markdown",
   "id": "2801a934",
   "metadata": {},
   "source": [
    "5. How many global scopes are there in a Python program? How many local scopes?"
   ]
  },
  {
   "cell_type": "markdown",
   "id": "58bf9a88",
   "metadata": {},
   "source": [
    "A. there is one globle scope and one local scope in a python code"
   ]
  },
  {
   "cell_type": "markdown",
   "id": "a23713d6",
   "metadata": {},
   "source": [
    " "
   ]
  },
  {
   "cell_type": "markdown",
   "id": "dee7515e",
   "metadata": {},
   "source": [
    "6. What happens to variables in a local scope when the function call returns?"
   ]
  },
  {
   "cell_type": "markdown",
   "id": "618baacd",
   "metadata": {},
   "source": [
    "A. \n",
    "all the local variables scope will be just with in the function \n",
    "when a function call returns all the variables in side function will be forgotten"
   ]
  },
  {
   "cell_type": "markdown",
   "id": "b76d808f",
   "metadata": {},
   "source": [
    " "
   ]
  },
  {
   "cell_type": "markdown",
   "id": "7dda7c93",
   "metadata": {},
   "source": [
    "7. What is the concept of a return value? Is it possible to have a return value in an expression?\n"
   ]
  },
  {
   "cell_type": "markdown",
   "id": "cbebfa13",
   "metadata": {},
   "source": [
    "A. A return value is the value that a function call outputs. similar to any value, a return value can be used as part of an expression"
   ]
  },
  {
   "cell_type": "markdown",
   "id": "23a0647b",
   "metadata": {},
   "source": [
    " "
   ]
  },
  {
   "cell_type": "markdown",
   "id": "ae3f2461",
   "metadata": {},
   "source": [
    "8. If a function does not have a return statement, what is the return value of a call to that function?\n"
   ]
  },
  {
   "cell_type": "markdown",
   "id": "c07834c7",
   "metadata": {},
   "source": [
    "A. by default None is the value returened by such fuctions that dont return any value"
   ]
  },
  {
   "cell_type": "markdown",
   "id": "8d01b10a",
   "metadata": {},
   "source": [
    " "
   ]
  },
  {
   "cell_type": "markdown",
   "id": "79dace7f",
   "metadata": {},
   "source": [
    "9. How do you make a function variable refer to the global variable?\n"
   ]
  },
  {
   "cell_type": "markdown",
   "id": "7a610f93",
   "metadata": {},
   "source": [
    "A. global is the key word to declare any variable as global in a python code"
   ]
  },
  {
   "cell_type": "markdown",
   "id": "95bce265",
   "metadata": {},
   "source": [
    " "
   ]
  },
  {
   "cell_type": "markdown",
   "id": "9d0e073a",
   "metadata": {},
   "source": [
    "10. What is the data type of None?\n"
   ]
  },
  {
   "cell_type": "markdown",
   "id": "bd1eb322",
   "metadata": {},
   "source": [
    "A. NoneType is the datatype of None in python"
   ]
  },
  {
   "cell_type": "code",
   "execution_count": 13,
   "id": "028492a5",
   "metadata": {},
   "outputs": [
    {
     "data": {
      "text/plain": [
       "NoneType"
      ]
     },
     "execution_count": 13,
     "metadata": {},
     "output_type": "execute_result"
    }
   ],
   "source": [
    "# proof\n",
    "type(None)"
   ]
  },
  {
   "cell_type": "markdown",
   "id": "a1e2b987",
   "metadata": {},
   "source": [
    " "
   ]
  },
  {
   "cell_type": "markdown",
   "id": "75a2e448",
   "metadata": {},
   "source": [
    "11. What does the sentence import areallyourpetsnamederic do?"
   ]
  },
  {
   "cell_type": "markdown",
   "id": "b9029e08",
   "metadata": {},
   "source": [
    "A. it imports the module named areallyourpetsnamederic into the code which has a statement\n",
    "\n",
    "\n",
    "import areallyourpetsnamederic"
   ]
  },
  {
   "cell_type": "markdown",
   "id": "ff5ba1ed",
   "metadata": {},
   "source": [
    " "
   ]
  },
  {
   "cell_type": "markdown",
   "id": "a7ee8acc",
   "metadata": {},
   "source": [
    "12. If you had a bacon() feature in a spam module, what would you call it after importing spam?"
   ]
  },
  {
   "cell_type": "markdown",
   "id": "fb70d5bd",
   "metadata": {},
   "source": [
    "A. \n",
    "\n",
    "spam.bacon()"
   ]
  },
  {
   "cell_type": "markdown",
   "id": "0f57ecc8",
   "metadata": {},
   "source": [
    " "
   ]
  },
  {
   "cell_type": "markdown",
   "id": "15217a02",
   "metadata": {},
   "source": [
    "13. What can you do to save a programme from crashing if it encounters an error?"
   ]
  },
  {
   "cell_type": "markdown",
   "id": "687a1a2f",
   "metadata": {},
   "source": [
    "A. we perform exceptional handling in order to save our code from crashing\n",
    "\n",
    "in python we use\n",
    "\n",
    "` \n",
    "try:\n",
    "    statements\n",
    "except:\n",
    "    statements\n",
    "`    \n",
    "for execptional handling"
   ]
  },
  {
   "cell_type": "markdown",
   "id": "92d9d224",
   "metadata": {},
   "source": [
    " "
   ]
  },
  {
   "cell_type": "markdown",
   "id": "93e76fdd",
   "metadata": {},
   "source": [
    "14. What is the purpose of the try clause? What is the purpose of the except clause?"
   ]
  },
  {
   "cell_type": "markdown",
   "id": "5ea6c394",
   "metadata": {},
   "source": [
    "A. the code that we consisder can crash or throw an error will be written in try block\n",
    "and the handling statements or messages are written in exepct block"
   ]
  },
  {
   "cell_type": "markdown",
   "id": "4880aac0",
   "metadata": {},
   "source": [
    "general form\n",
    "\n",
    "`\n",
    "try:\n",
    "    doubt ful statements\n",
    "except:\n",
    "    handling statements\n",
    "`\n"
   ]
  }
 ],
 "metadata": {
  "kernelspec": {
   "display_name": "Python 3 (ipykernel)",
   "language": "python",
   "name": "python3"
  },
  "language_info": {
   "codemirror_mode": {
    "name": "ipython",
    "version": 3
   },
   "file_extension": ".py",
   "mimetype": "text/x-python",
   "name": "python",
   "nbconvert_exporter": "python",
   "pygments_lexer": "ipython3",
   "version": "3.9.7"
  }
 },
 "nbformat": 4,
 "nbformat_minor": 5
}
