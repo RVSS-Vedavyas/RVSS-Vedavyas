{
 "cells": [
  {
   "cell_type": "markdown",
   "id": "7831dad3",
   "metadata": {},
   "source": [
    "1. Why are functions advantageous to have in your programs?\n"
   ]
  },
  {
   "cell_type": "markdown",
   "id": "3f9b199c",
   "metadata": {},
   "source": [
    "A.\n",
    "1. function helps in moduling a given task\n",
    "2. functions helps in code reusability\n",
    "3. functions makes the code easy to understand\n",
    "4. helps in reducing the lines of code "
   ]
  },
  {
   "cell_type": "markdown",
   "id": "8aac4092",
   "metadata": {},
   "source": [
    " "
   ]
  },
  {
   "cell_type": "markdown",
   "id": "34f2b617",
   "metadata": {},
   "source": [
    "2. When does the code in a function run: when it's specified or when it's called?"
   ]
  },
  {
   "cell_type": "markdown",
   "id": "3161584c",
   "metadata": {},
   "source": [
    "A. the function doesnt run unless and until its gets called .\n",
    "in order to execute the statements written in a function it needs to be called as shown\n",
    "\n",
    "function_name(par1,par2...) here par1,par2 are optional "
   ]
  },
  {
   "cell_type": "markdown",
   "id": "9a53d7fa",
   "metadata": {},
   "source": [
    " "
   ]
  },
  {
   "cell_type": "markdown",
   "id": "dbdaee62",
   "metadata": {},
   "source": [
    "3. What statement creates a function?\n"
   ]
  },
  {
   "cell_type": "markdown",
   "id": "b6a5911a",
   "metadata": {},
   "source": [
    "A. def is a keyword used for defining a function\n",
    "general form of a python function\n",
    "\n",
    "\n",
    "`\n",
    "def function_name(parameters):\n",
    "    '''\n",
    "    doc strings\n",
    "    '''\n",
    "    statements to execute\n",
    "    \n",
    "    return value\n",
    "`"
   ]
  },
  {
   "cell_type": "markdown",
   "id": "b3b2caab",
   "metadata": {},
   "source": [
    " "
   ]
  },
  {
   "cell_type": "markdown",
   "id": "2b44a717",
   "metadata": {},
   "source": [
    "4. What is the difference between a function and a function call?\n"
   ]
  },
  {
   "cell_type": "markdown",
   "id": "b88ee96b",
   "metadata": {},
   "source": [
    "A.\n",
    "a function or function defination is nothing but a defination of some set of statements \n",
    "or a block of code written under a function name \n",
    "where as a function call is the trigger for that function defination content to execute"
   ]
  },
  {
   "cell_type": "markdown",
   "id": "2e23d858",
   "metadata": {},
   "source": [
    " "
   ]
  },
  {
   "cell_type": "markdown",
   "id": "d405543c",
   "metadata": {},
   "source": [
    "5. How many global scopes are there in a Python program? How many local scopes?"
   ]
  },
  {
   "cell_type": "markdown",
   "id": "7ba315e7",
   "metadata": {},
   "source": [
    "A. there is one globle scope and one local scope in a python code"
   ]
  },
  {
   "cell_type": "markdown",
   "id": "a03f1998",
   "metadata": {},
   "source": [
    " "
   ]
  },
  {
   "cell_type": "markdown",
   "id": "25408e84",
   "metadata": {},
   "source": [
    "6. What happens to variables in a local scope when the function call returns?"
   ]
  },
  {
   "cell_type": "markdown",
   "id": "42737bee",
   "metadata": {},
   "source": [
    "A. \n",
    "all the local variables scope will be just with in the function \n",
    "when a function call returns all the variables in side function will be forgotten"
   ]
  },
  {
   "cell_type": "markdown",
   "id": "eb6a9626",
   "metadata": {},
   "source": [
    " "
   ]
  },
  {
   "cell_type": "markdown",
   "id": "678ba433",
   "metadata": {},
   "source": [
    "7. What is the concept of a return value? Is it possible to have a return value in an expression?\n"
   ]
  },
  {
   "cell_type": "markdown",
   "id": "222fa767",
   "metadata": {},
   "source": [
    "A. A return value is the value that a function call outputs. similar to any value, a return value can be used as part of an expression"
   ]
  },
  {
   "cell_type": "markdown",
   "id": "d155b86a",
   "metadata": {},
   "source": [
    " "
   ]
  },
  {
   "cell_type": "markdown",
   "id": "388c44a0",
   "metadata": {},
   "source": [
    "8. If a function does not have a return statement, what is the return value of a call to that function?\n"
   ]
  },
  {
   "cell_type": "markdown",
   "id": "1ea38883",
   "metadata": {},
   "source": [
    "A. by default None is the value returened by such fuctions that dont return any value"
   ]
  },
  {
   "cell_type": "markdown",
   "id": "68e9dadd",
   "metadata": {},
   "source": [
    " "
   ]
  },
  {
   "cell_type": "markdown",
   "id": "ad6bb7b3",
   "metadata": {},
   "source": [
    "9. How do you make a function variable refer to the global variable?\n"
   ]
  },
  {
   "cell_type": "markdown",
   "id": "7f042222",
   "metadata": {},
   "source": [
    "A. global is the key word to declare any variable as global in a python code"
   ]
  },
  {
   "cell_type": "markdown",
   "id": "8f6ad43b",
   "metadata": {},
   "source": [
    " "
   ]
  },
  {
   "cell_type": "markdown",
   "id": "81f118b6",
   "metadata": {},
   "source": [
    "10. What is the data type of None?\n"
   ]
  },
  {
   "cell_type": "markdown",
   "id": "841f27ed",
   "metadata": {},
   "source": [
    "A. NoneType is the datatype of None in python"
   ]
  },
  {
   "cell_type": "code",
   "execution_count": 13,
   "id": "ddb2fa0b",
   "metadata": {},
   "outputs": [
    {
     "data": {
      "text/plain": [
       "NoneType"
      ]
     },
     "execution_count": 13,
     "metadata": {},
     "output_type": "execute_result"
    }
   ],
   "source": [
    "# proof\n",
    "type(None)"
   ]
  },
  {
   "cell_type": "markdown",
   "id": "692d5b2c",
   "metadata": {},
   "source": [
    " "
   ]
  },
  {
   "cell_type": "markdown",
   "id": "a9fdd169",
   "metadata": {},
   "source": [
    "11. What does the sentence import areallyourpetsnamederic do?"
   ]
  },
  {
   "cell_type": "markdown",
   "id": "09070a85",
   "metadata": {},
   "source": [
    "A. it imports the module named areallyourpetsnamederic into the code which has a statement\n",
    "\n",
    "\n",
    "import areallyourpetsnamederic"
   ]
  },
  {
   "cell_type": "markdown",
   "id": "c8971bd8",
   "metadata": {},
   "source": [
    " "
   ]
  },
  {
   "cell_type": "markdown",
   "id": "84337229",
   "metadata": {},
   "source": [
    "12. If you had a bacon() feature in a spam module, what would you call it after importing spam?"
   ]
  },
  {
   "cell_type": "markdown",
   "id": "c85d14f2",
   "metadata": {},
   "source": [
    "A. \n",
    "\n",
    "spam.bacon()"
   ]
  },
  {
   "cell_type": "markdown",
   "id": "892ac387",
   "metadata": {},
   "source": [
    " "
   ]
  },
  {
   "cell_type": "markdown",
   "id": "97b248b1",
   "metadata": {},
   "source": [
    "13. What can you do to save a programme from crashing if it encounters an error?"
   ]
  },
  {
   "cell_type": "markdown",
   "id": "f98db8a0",
   "metadata": {},
   "source": [
    "A. we perform exceptional handling in order to save our code from crashing\n",
    "\n",
    "in python we use\n",
    "\n",
    "` \n",
    "try:\n",
    "    statements\n",
    "except:\n",
    "    statements\n",
    "`    \n",
    "for execptional handling"
   ]
  },
  {
   "cell_type": "markdown",
   "id": "576ee04c",
   "metadata": {},
   "source": [
    " "
   ]
  },
  {
   "cell_type": "markdown",
   "id": "7d17ccf1",
   "metadata": {},
   "source": [
    "14. What is the purpose of the try clause? What is the purpose of the except clause?"
   ]
  },
  {
   "cell_type": "markdown",
   "id": "ca5c23f9",
   "metadata": {},
   "source": [
    "A. the code that we consisder can crash or throw an error will be written in try block\n",
    "and the handling statements or messages are written in exepct block"
   ]
  },
  {
   "cell_type": "markdown",
   "id": "49167a2c",
   "metadata": {},
   "source": [
    "general form\n",
    "\n",
    "`\n",
    "try:\n",
    "    doubt ful statements\n",
    "except:\n",
    "    handling statements\n",
    "`\n"
   ]
  }
 ],
 "metadata": {
  "kernelspec": {
   "display_name": "Python 3 (ipykernel)",
   "language": "python",
   "name": "python3"
  },
  "language_info": {
   "codemirror_mode": {
    "name": "ipython",
    "version": 3
   },
   "file_extension": ".py",
   "mimetype": "text/x-python",
   "name": "python",
   "nbconvert_exporter": "python",
   "pygments_lexer": "ipython3",
   "version": "3.9.7"
  }
 },
 "nbformat": 4,
 "nbformat_minor": 5
}
