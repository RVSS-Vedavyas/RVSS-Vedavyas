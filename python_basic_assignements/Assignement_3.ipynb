{
 "cells": [
  {
   "cell_type": "markdown",
   "id": "235bceb5",
   "metadata": {},
   "source": [
    "1. Why are functions advantageous to have in your programs?\n"
   ]
  },
  {
   "cell_type": "markdown",
   "id": "df37df4d",
   "metadata": {},
   "source": [
    "A.\n",
    "1. function helps in moduling a given task\n",
    "2. functions helps in code reusability\n",
    "3. functions makes the code easy to understand\n",
    "4. helps in reducing the lines of code "
   ]
  },
  {
   "cell_type": "markdown",
   "id": "22cdecb3",
   "metadata": {},
   "source": [
    " "
   ]
  },
  {
   "cell_type": "markdown",
   "id": "e995d125",
   "metadata": {},
   "source": [
    "2. When does the code in a function run: when it's specified or when it's called?"
   ]
  },
  {
   "cell_type": "markdown",
   "id": "05ef7a3d",
   "metadata": {},
   "source": [
    "A. the function doesnt run unless and until its gets called .\n",
    "in order to execute the statements written in a function it needs to be called as shown\n",
    "\n",
    "function_name(par1,par2...) here par1,par2 are optional "
   ]
  },
  {
   "cell_type": "markdown",
   "id": "24fdf3e5",
   "metadata": {},
   "source": [
    " "
   ]
  },
  {
   "cell_type": "markdown",
   "id": "25a33341",
   "metadata": {},
   "source": [
    "3. What statement creates a function?\n"
   ]
  },
  {
   "cell_type": "markdown",
   "id": "475c548e",
   "metadata": {},
   "source": [
    "A. def is a keyword used for defining a function\n",
    "general form of a python function\n",
    "\n",
    "`\n",
    "def function_name(parameters):\n",
    "    doc strings\n",
    "    \n",
    "    statements to execute\n",
    "    \n",
    "    return value\n",
    "   `"
   ]
  },
  {
   "cell_type": "markdown",
   "id": "96a3baca",
   "metadata": {},
   "source": [
    " "
   ]
  },
  {
   "cell_type": "markdown",
   "id": "f82e1e4f",
   "metadata": {},
   "source": [
    "4. What is the difference between a function and a function call?\n"
   ]
  },
  {
   "cell_type": "markdown",
   "id": "9ba44b8e",
   "metadata": {},
   "source": [
    "A.\n",
    "a function or function defination is nothing but a defination of some set of statements \n",
    "or a block of code written under a function name \n",
    "where as a function call is the trigger for that function defination content to execute"
   ]
  },
  {
   "cell_type": "markdown",
   "id": "e7e2f84b",
   "metadata": {},
   "source": [
    " "
   ]
  },
  {
   "cell_type": "markdown",
   "id": "1e856239",
   "metadata": {},
   "source": [
    "5. How many global scopes are there in a Python program? How many local scopes?"
   ]
  },
  {
   "cell_type": "markdown",
   "id": "e1cba83a",
   "metadata": {},
   "source": [
    "A. there is one globle scope and one local scope in a python code"
   ]
  },
  {
   "cell_type": "markdown",
   "id": "2e2b08cc",
   "metadata": {},
   "source": [
    " "
   ]
  },
  {
   "cell_type": "markdown",
   "id": "182e779c",
   "metadata": {},
   "source": [
    "6. What happens to variables in a local scope when the function call returns?"
   ]
  },
  {
   "cell_type": "markdown",
   "id": "ab752cd9",
   "metadata": {},
   "source": [
    "A. \n",
    "all the local variables scope will be just with in the function \n",
    "when a function call returns all the variables in side function will be forgotten"
   ]
  },
  {
   "cell_type": "markdown",
   "id": "347e2cc3",
   "metadata": {},
   "source": [
    " "
   ]
  },
  {
   "cell_type": "markdown",
   "id": "c02e07e5",
   "metadata": {},
   "source": [
    "7. What is the concept of a return value? Is it possible to have a return value in an expression?\n"
   ]
  },
  {
   "cell_type": "markdown",
   "id": "84be4870",
   "metadata": {},
   "source": [
    "A. A return value is the value that a function call outputs. similar to any value, a return value can be used as part of an expression"
   ]
  },
  {
   "cell_type": "markdown",
   "id": "d5b55fbb",
   "metadata": {},
   "source": [
    " "
   ]
  },
  {
   "cell_type": "markdown",
   "id": "9c84a64b",
   "metadata": {},
   "source": [
    "8. If a function does not have a return statement, what is the return value of a call to that function?\n"
   ]
  },
  {
   "cell_type": "markdown",
   "id": "54f92c86",
   "metadata": {},
   "source": [
    "A. by default None is the value returened by such fuctions that dont return any value"
   ]
  },
  {
   "cell_type": "markdown",
   "id": "80b44cd8",
   "metadata": {},
   "source": [
    " "
   ]
  },
  {
   "cell_type": "markdown",
   "id": "2ab82228",
   "metadata": {},
   "source": [
    "9. How do you make a function variable refer to the global variable?\n"
   ]
  },
  {
   "cell_type": "markdown",
   "id": "e7d606e0",
   "metadata": {},
   "source": [
    "A. global is the key word to declare any variable as global in a python code"
   ]
  },
  {
   "cell_type": "markdown",
   "id": "b428832f",
   "metadata": {},
   "source": [
    " "
   ]
  },
  {
   "cell_type": "markdown",
   "id": "7489ca8a",
   "metadata": {},
   "source": [
    "10. What is the data type of None?\n"
   ]
  },
  {
   "cell_type": "markdown",
   "id": "c0938a6c",
   "metadata": {},
   "source": [
    "A. NoneType is the datatype of None in python"
   ]
  },
  {
   "cell_type": "code",
   "execution_count": 13,
   "id": "4a9d8422",
   "metadata": {},
   "outputs": [
    {
     "data": {
      "text/plain": [
       "NoneType"
      ]
     },
     "execution_count": 13,
     "metadata": {},
     "output_type": "execute_result"
    }
   ],
   "source": [
    "# proof\n",
    "type(None)"
   ]
  },
  {
   "cell_type": "markdown",
   "id": "93b3c51c",
   "metadata": {},
   "source": [
    " "
   ]
  },
  {
   "cell_type": "markdown",
   "id": "56a1865c",
   "metadata": {},
   "source": [
    "11. What does the sentence import areallyourpetsnamederic do?"
   ]
  },
  {
   "cell_type": "markdown",
   "id": "25a66b64",
   "metadata": {},
   "source": [
    "A. it imports the module named areallyourpetsnamederic into the code which has a statement\n",
    "\n",
    "\n",
    "import areallyourpetsnamederic"
   ]
  },
  {
   "cell_type": "markdown",
   "id": "11a0b042",
   "metadata": {},
   "source": [
    " "
   ]
  },
  {
   "cell_type": "markdown",
   "id": "98a6e520",
   "metadata": {},
   "source": [
    "12. If you had a bacon() feature in a spam module, what would you call it after importing spam?"
   ]
  },
  {
   "cell_type": "markdown",
   "id": "842ae3e7",
   "metadata": {},
   "source": [
    "A. \n",
    "\n",
    "spam.bacon()"
   ]
  },
  {
   "cell_type": "markdown",
   "id": "d5bb7b6f",
   "metadata": {},
   "source": [
    " "
   ]
  },
  {
   "cell_type": "markdown",
   "id": "8661de10",
   "metadata": {},
   "source": [
    "13. What can you do to save a programme from crashing if it encounters an error?"
   ]
  },
  {
   "cell_type": "markdown",
   "id": "0dde7984",
   "metadata": {},
   "source": [
    "A. we perform exceptional handling in order to save our code from crashing\n",
    "\n",
    "in python we use\n",
    "\n",
    "` \n",
    "try:\n",
    "    statements\n",
    "except:\n",
    "    statements\n",
    "`    \n",
    "for execptional handling"
   ]
  },
  {
   "cell_type": "markdown",
   "id": "f592e055",
   "metadata": {},
   "source": [
    " "
   ]
  },
  {
   "cell_type": "markdown",
   "id": "fa497b79",
   "metadata": {},
   "source": [
    "14. What is the purpose of the try clause? What is the purpose of the except clause?"
   ]
  },
  {
   "cell_type": "markdown",
   "id": "5d3d625d",
   "metadata": {},
   "source": [
    "A. the code that we consisder can crash or throw an error will be written in try block\n",
    "and the handling statements or messages are written in exepct block"
   ]
  },
  {
   "cell_type": "markdown",
   "id": "dc08700d",
   "metadata": {},
   "source": [
    "general form\n",
    "\n",
    "`\n",
    "try:\n",
    "    doubt ful statements\n",
    "except:\n",
    "    handling statements\n",
    "`\n"
   ]
  }
 ],
 "metadata": {
  "kernelspec": {
   "display_name": "Python 3 (ipykernel)",
   "language": "python",
   "name": "python3"
  },
  "language_info": {
   "codemirror_mode": {
    "name": "ipython",
    "version": 3
   },
   "file_extension": ".py",
   "mimetype": "text/x-python",
   "name": "python",
   "nbconvert_exporter": "python",
   "pygments_lexer": "ipython3",
   "version": "3.9.7"
  }
 },
 "nbformat": 4,
 "nbformat_minor": 5
}
