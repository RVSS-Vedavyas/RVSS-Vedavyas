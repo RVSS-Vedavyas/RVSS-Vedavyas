{
 "cells": [
  {
   "cell_type": "markdown",
   "id": "b06c3518",
   "metadata": {},
   "source": [
    " 1. Is the Python Standard Library included with PyInputPlus?\n",
    "\n",
    "\n",
    "A. No, PyInputPlus is not a part of Python Standard Library, it needs to be installed explicitly using the command **`!pip install PyInputPlus`**"
   ]
  },
  {
   "cell_type": "markdown",
   "id": "793e0a2f",
   "metadata": {},
   "source": [
    " 2. Why is PyInputPlus commonly imported with import pyinputplus as pypi?\n",
    "\n",
    "    \n",
    "A. You can import the module with **`import pyinputplus as pyip`** so that you can enter a shorter name when calling the module's functions"
   ]
  },
  {
   "cell_type": "markdown",
   "id": "c1879eff",
   "metadata": {},
   "source": [
    "3. How do you distinguish between inputInt() and inputFloat()?\n",
    "\n",
    "\n",
    "A.`inputInt()` function Accepts an integer value. This also takes additional parameters **`min`**, **`max`**, **`greaterThan`** and **`lessThan`** for bounds. And it always returns an int.\n",
    "\n",
    "Whereas **`inputFloat()`** function Accepts a floating-point numeric value. this also takes additional **`min`**, **`max`**, **`greaterThan`** and **`lessThan`** parameters. and always returns a float."
   ]
  },
  {
   "cell_type": "markdown",
   "id": "49867305",
   "metadata": {},
   "source": [
    " "
   ]
  },
  {
   "cell_type": "markdown",
   "id": "9e7db9b1",
   "metadata": {},
   "source": [
    "4. Using PyInputPlus, how do you ensure that the user enters a whole number between 0 and 99?\n",
    "\n",
    "A. `PyInputPlus` module provides a function called as `inputInt()` which only returns only integer values. inorder to restrict the input between 0 and 99, i'ii use parameters like **`min`** & **`max`** to ensure that user enters the values between the defined range only.\n",
    "\n",
    "`import pyinputplus as pyip`  \n",
    "`wholenumber = pyip.inputInt(prompt='Enter a number: ', min=0, max=100)`   \n",
    "`print(wholenumber)`  "
   ]
  },
  {
   "cell_type": "markdown",
   "id": "e1af97b4",
   "metadata": {},
   "source": [
    " "
   ]
  },
  {
   "cell_type": "markdown",
   "id": "23b8748e",
   "metadata": {},
   "source": [
    "5. What is transferred to the keyword arguments allowRegexes and blockRegexes?\n",
    "\n",
    "\n",
    "A. we can use `allowRegexes` and `blockRegexes` keyword arguments to take list of regular expression strings to determine\n",
    "what the pyinputplus function will reject or accept valid input."
   ]
  },
  {
   "cell_type": "markdown",
   "id": "36a7ba5a",
   "metadata": {},
   "source": [
    "6. If a blank input is entered three times, what does inputStr(limit=3) do?\n",
    "\n",
    "\n",
    "A. ** The statement **`inputStr(limit=3)`** will throw two exceptions **`ValidationException`** and **`RetryLimitException`**. The first exception is thrown because blank values are not allowed by inputStr() function by default. it we want to consider blank values as valid input, we have to set **`blank=True`**.\n",
    "\n",
    "The second exception is occured because we have reached the max limit we have specified by using **`limit`** parameter. inorder to avoid this exception we can use **`default`** parameter to return a default value when max limit is reached."
   ]
  },
  {
   "cell_type": "markdown",
   "id": "505878dc",
   "metadata": {},
   "source": [
    "7. If blank input is entered three times, what does inputStr(limit=3, default='hello') do?\n",
    "\n",
    "A. Since the default parameter is set to **`hello`**. after blank input is entered three times instead of raising **`RetryLimitException`** exception. the function will return **`hello`** as response to the calling function"
   ]
  },
  {
   "cell_type": "code",
   "execution_count": null,
   "id": "9c435c52",
   "metadata": {},
   "outputs": [],
   "source": []
  }
 ],
 "metadata": {
  "kernelspec": {
   "display_name": "Python 3 (ipykernel)",
   "language": "python",
   "name": "python3"
  },
  "language_info": {
   "codemirror_mode": {
    "name": "ipython",
    "version": 3
   },
   "file_extension": ".py",
   "mimetype": "text/x-python",
   "name": "python",
   "nbconvert_exporter": "python",
   "pygments_lexer": "ipython3",
   "version": "3.9.7"
  }
 },
 "nbformat": 4,
 "nbformat_minor": 5
}
