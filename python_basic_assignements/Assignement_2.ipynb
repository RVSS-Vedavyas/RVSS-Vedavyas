{
 "cells": [
  {
   "cell_type": "markdown",
   "id": "e340d36c",
   "metadata": {},
   "source": [
    "1.What are the two values of the Boolean data type? How do you write them?\n"
   ]
  },
  {
   "cell_type": "markdown",
   "id": "db620409",
   "metadata": {},
   "source": [
    "A. The 2 boolean values are True , False and this is how we write them True , False"
   ]
  },
  {
   "cell_type": "code",
   "execution_count": 25,
   "id": "8748f1f6",
   "metadata": {},
   "outputs": [
    {
     "name": "stdout",
     "output_type": "stream",
     "text": [
      "on= <class 'bool'>\n",
      "off= <class 'bool'>\n"
     ]
    }
   ],
   "source": [
    "#examples using bool type\n",
    "on=True\n",
    "off=False\n",
    "print(\"on=\",type(on))\n",
    "print(\"off=\",type(off))"
   ]
  },
  {
   "cell_type": "markdown",
   "id": "eba9cb63",
   "metadata": {},
   "source": [
    "    "
   ]
  },
  {
   "cell_type": "markdown",
   "id": "1d0c4599",
   "metadata": {},
   "source": [
    "2. What are the three different types of Boolean operators?\n"
   ]
  },
  {
   "cell_type": "markdown",
   "id": "058cfdee",
   "metadata": {},
   "source": [
    "A. 3 boolean operators are : and, or, not"
   ]
  },
  {
   "cell_type": "code",
   "execution_count": 26,
   "id": "a1848d8b",
   "metadata": {},
   "outputs": [
    {
     "name": "stdout",
     "output_type": "stream",
     "text": [
      "(500<700) and (700>500) True\n",
      "(500<700) or (700>500) True\n",
      "not num1<num2 False\n"
     ]
    }
   ],
   "source": [
    "#example\n",
    "num1=500\n",
    "num2=700\n",
    "print(\"(500<700) and (700>500)\",(500<700) and (700>500)) #and operator: \"both\" sides should be true else returns false\n",
    "\n",
    "print(\"(500<700) or (700>500)\",(500<700) or (700<500))#or operator : any one value either left or right can be true to get the output true\n",
    "\n",
    "print(\"not num1<num2\", not num1<num2)# not operator :performs the negation operation"
   ]
  },
  {
   "cell_type": "markdown",
   "id": "c5581ef5",
   "metadata": {},
   "source": [
    "    "
   ]
  },
  {
   "cell_type": "markdown",
   "id": "32b5423d",
   "metadata": {},
   "source": [
    "3. Make a list of each Boolean operator's truth tables (i.e. every possible combination of Boolean values for the operator and what it evaluate ).\n"
   ]
  },
  {
   "cell_type": "markdown",
   "id": "db52ca10",
   "metadata": {},
   "source": [
    "A. truth tables \n",
    "\n",
    "\n",
    "**Truth Table for `and` operaotor**  \n",
    "    _True and True is True   \n",
    "    True and False is False  \n",
    "    False and True is False  \n",
    "    False and False is False_\n",
    "    \n",
    "    \n",
    "**Truth Table for `or` operaotor**  \n",
    "    _True and True is True   \n",
    "    True and False is True  \n",
    "    False and True is True  \n",
    "    False and False is False_\n",
    "    \n",
    "    \n",
    "**Truth Table for `not` operaotor**        \n",
    "    _True not is False\n",
    "    False not is True_"
   ]
  },
  {
   "cell_type": "markdown",
   "id": "e16a477e",
   "metadata": {},
   "source": [
    " "
   ]
  },
  {
   "cell_type": "markdown",
   "id": "31c1c57f",
   "metadata": {},
   "source": [
    "4. What are the values of the following expressions?\n"
   ]
  },
  {
   "cell_type": "markdown",
   "id": "6473b7da",
   "metadata": {},
   "source": [
    "A. manual analysis results\n",
    "\n",
    "(5 > 4) and (3 == 5) \n",
    "#output False\n",
    "not (5 > 4) \n",
    "#output False\n",
    "(5 > 4) or (3 == 5) \n",
    "#output True \n",
    "not ((5 > 4) or (3 == 5))\n",
    "#output False\n",
    "(True and True) and (True == False)\n",
    "#output False\n",
    "(not False) or (not True)\n",
    "#output True\n"
   ]
  },
  {
   "cell_type": "code",
   "execution_count": 32,
   "id": "ba12c89a",
   "metadata": {},
   "outputs": [
    {
     "name": "stdout",
     "output_type": "stream",
     "text": [
      "(5 > 4) and (3 == 5)  False\n",
      "(not (5 > 4) False\n",
      "(5 > 4) or (3 == 5) True\n",
      "not ((5 > 4) or (3 == 5)) False\n",
      "(True and True) and (True == False) False\n",
      "(not False) or (not True) True\n"
     ]
    }
   ],
   "source": [
    "#system results\n",
    "print(\"(5 > 4) and (3 == 5) \",(5 > 4) and (3 == 5) )\n",
    "#output False\n",
    "print (\"(not (5 > 4)\",(not (5 > 4) ))\n",
    "# output False\n",
    "print(\"(5 > 4) or (3 == 5)\",(5 > 4) or (3 == 5) )\n",
    "#output True \n",
    "print(\"not ((5 > 4) or (3 == 5))\",not ((5 > 4) or (3 == 5)))\n",
    "#output False\n",
    "print(\"(True and True) and (True == False)\",(True and True) and (True == False))\n",
    "#output False\n",
    "print(\"(not False) or (not True)\",(not False) or (not True))\n",
    "#output True\n"
   ]
  },
  {
   "cell_type": "markdown",
   "id": "e6f2d1ae",
   "metadata": {},
   "source": [
    " "
   ]
  },
  {
   "cell_type": "markdown",
   "id": "e2202d70",
   "metadata": {},
   "source": [
    "5. What are the six comparison operators?"
   ]
  },
  {
   "cell_type": "markdown",
   "id": "22c2a0b2",
   "metadata": {},
   "source": [
    "A.\n",
    "<(less than)\n",
    ">(greater than)\n",
    "<=(lesser and equals)\n",
    ">=(greater and equals)\n",
    "==(comparission equals operator)\n",
    "!=(not equals)"
   ]
  },
  {
   "cell_type": "code",
   "execution_count": 35,
   "id": "3361c72a",
   "metadata": {},
   "outputs": [
    {
     "name": "stdout",
     "output_type": "stream",
     "text": [
      "2<4 True\n",
      "49<=50 True\n",
      "50>=50 True\n",
      "23==23 True\n",
      "23!=24 True\n"
     ]
    }
   ],
   "source": [
    "#example \n",
    "print(\"2<4\",2<4)\n",
    "print(\"49<=50\",50<=50)\n",
    "print(\"50>=50\",50>=50)\n",
    "print(\"23==23\",23==23)\n",
    "print(\"23!=24\",23!=24)"
   ]
  },
  {
   "cell_type": "markdown",
   "id": "a8f167e0",
   "metadata": {},
   "source": [
    " "
   ]
  },
  {
   "cell_type": "markdown",
   "id": "6bc54839",
   "metadata": {},
   "source": [
    "6. How do you tell the difference between the equal to and assignment operators?Describe a condition and when you would use one.\n"
   ]
  },
  {
   "cell_type": "markdown",
   "id": "b45151fe",
   "metadata": {},
   "source": [
    "A. assignement operator is denoted with single =\n",
    "equal for comparision uses double =="
   ]
  },
  {
   "cell_type": "code",
   "execution_count": 39,
   "id": "50b2bcb6",
   "metadata": {},
   "outputs": [
    {
     "data": {
      "text/plain": [
       "True"
      ]
     },
     "execution_count": 39,
     "metadata": {},
     "output_type": "execute_result"
    }
   ],
   "source": [
    "#example\n",
    "num=10 #here this statement ment for assinement where 10 gets stored in num variable dosent return any value \n",
    "\n",
    "\n",
    "num==10 # here this is a comparactive operator which returns either true or false \n"
   ]
  },
  {
   "cell_type": "markdown",
   "id": "74fd6d76",
   "metadata": {},
   "source": [
    " "
   ]
  },
  {
   "cell_type": "markdown",
   "id": "aa13b7eb",
   "metadata": {},
   "source": [
    "7. Identify the three blocks in this code:\n",
    "spam = 0\n",
    "if spam == 10:\n",
    "print('eggs')\n",
    "if spam > 5:\n",
    "print('bacon')\n",
    "else:\n",
    "print('ham')\n",
    "print('spam')\n",
    "print('spam')\n"
   ]
  },
  {
   "cell_type": "code",
   "execution_count": 44,
   "id": "59528699",
   "metadata": {},
   "outputs": [
    {
     "name": "stdout",
     "output_type": "stream",
     "text": [
      "ham\n",
      "spam\n",
      "spam\n"
     ]
    }
   ],
   "source": [
    "#A.\n",
    "spam = 0 \n",
    "if spam == 10:\n",
    "    print('eggs') # 1st block end\n",
    "if spam > 5:\n",
    "    print('bacon') # 2nd block end\n",
    "else:\n",
    "    print('ham') #3rd block\n",
    "print('spam') \n",
    "print('spam') \n"
   ]
  },
  {
   "cell_type": "markdown",
   "id": "eefd12c6",
   "metadata": {},
   "source": [
    " "
   ]
  },
  {
   "cell_type": "markdown",
   "id": "3918f72c",
   "metadata": {},
   "source": [
    "8. Write code that prints Hello if 1 is stored in spam, prints Howdy if 2 is stored in spam, and prints Greetings! if anything else is stored in spam.\n"
   ]
  },
  {
   "cell_type": "code",
   "execution_count": 50,
   "id": "39fd2459",
   "metadata": {},
   "outputs": [],
   "source": [
    "# A.\n",
    "\n",
    "def spam_fun(spam):\n",
    "    if(spam==1):\n",
    "        print(\"Hello\")\n",
    "    elif(spam==2):\n",
    "        print(\"Howdy\")\n",
    "    else:\n",
    "        print(\"Greetings!\")"
   ]
  },
  {
   "cell_type": "code",
   "execution_count": 51,
   "id": "f9abe4e9",
   "metadata": {},
   "outputs": [
    {
     "name": "stdout",
     "output_type": "stream",
     "text": [
      "Hello\n",
      "Howdy\n",
      "Greetings!\n"
     ]
    }
   ],
   "source": [
    "spam_fun(1)\n",
    "spam_fun(2)\n",
    "spam_fun(\"jksw\")"
   ]
  },
  {
   "cell_type": "markdown",
   "id": "af0649a1",
   "metadata": {},
   "source": [
    " "
   ]
  },
  {
   "cell_type": "markdown",
   "id": "d7fdc6ac",
   "metadata": {},
   "source": [
    "9.If your programme is stuck in an endless loop, what keys you’ll press"
   ]
  },
  {
   "cell_type": "markdown",
   "id": "60347a55",
   "metadata": {},
   "source": [
    "A. Ctrl + c in the command line execution\n",
    "\n",
    "if this happens in a jupyter notebook press the stop key above selecting \n",
    "the particular cell"
   ]
  },
  {
   "cell_type": "markdown",
   "id": "71af7d3e",
   "metadata": {},
   "source": [
    " "
   ]
  },
  {
   "cell_type": "markdown",
   "id": "a5357562",
   "metadata": {},
   "source": [
    "10. How can you tell the difference between break and continue?\n"
   ]
  },
  {
   "cell_type": "markdown",
   "id": "33f6441d",
   "metadata": {},
   "source": [
    "A. break stops the execution of a loop\n",
    "\n",
    "\n",
    "where as  continue skips that particular iteration and contineous to execute the loop"
   ]
  },
  {
   "cell_type": "code",
   "execution_count": 55,
   "id": "0df95782",
   "metadata": {},
   "outputs": [
    {
     "name": "stdout",
     "output_type": "stream",
     "text": [
      "0\n",
      "1\n",
      "2\n",
      "3\n",
      "4\n"
     ]
    }
   ],
   "source": [
    "#example of break\n",
    "\n",
    "for i in range(0,10):\n",
    "    if(i==5):\n",
    "        break\n",
    "    print(i)\n"
   ]
  },
  {
   "cell_type": "code",
   "execution_count": 56,
   "id": "2dd7aabb",
   "metadata": {},
   "outputs": [
    {
     "name": "stdout",
     "output_type": "stream",
     "text": [
      "0\n",
      "1\n",
      "2\n",
      "3\n",
      "4\n",
      "6\n",
      "7\n",
      "8\n",
      "9\n"
     ]
    }
   ],
   "source": [
    "#example of continue\n",
    "\n",
    "for i in range(0,10):\n",
    "    if(i==5):\n",
    "        continue\n",
    "    print(i)\n"
   ]
  },
  {
   "cell_type": "markdown",
   "id": "fb14417e",
   "metadata": {},
   "source": [
    "as we can see the above codes example break statement broke the execution of the loop\n",
    "where as a continue statem just skipped that particular condition and executed remaining loop"
   ]
  },
  {
   "cell_type": "markdown",
   "id": "d49c5275",
   "metadata": {},
   "source": [
    " "
   ]
  },
  {
   "cell_type": "markdown",
   "id": "268f900e",
   "metadata": {},
   "source": [
    "11. In a for loop, what is the difference between range(10), range(0, 10), and range(0, 10, 1)?"
   ]
  },
  {
   "cell_type": "markdown",
   "id": "a786676c",
   "metadata": {},
   "source": [
    "here range(10) means end=(10-1) default start=0 so if we use range(10) in a for loop it loops the statements the \"end\" number of times starting from zero as we didnt mention start"
   ]
  },
  {
   "cell_type": "code",
   "execution_count": 57,
   "id": "4b327a3c",
   "metadata": {},
   "outputs": [
    {
     "name": "stdout",
     "output_type": "stream",
     "text": [
      "0\n",
      "1\n",
      "2\n",
      "3\n",
      "4\n",
      "5\n",
      "6\n",
      "7\n",
      "8\n",
      "9\n"
     ]
    }
   ],
   "source": [
    "# example\n",
    "for i in range(10): #here end=10-1,start=0\n",
    "    print(i)"
   ]
  },
  {
   "cell_type": "markdown",
   "id": "ffd233c9",
   "metadata": {},
   "source": [
    "here range(0,10) means end=(10-1) we are \n",
    "inputting start paramenter start=0 so if we use range(0,10) in a for loop it loops \n",
    "the statements the \"end\" number of times starting from \"start\" parameter value\n"
   ]
  },
  {
   "cell_type": "code",
   "execution_count": 61,
   "id": "1ac67b94",
   "metadata": {},
   "outputs": [
    {
     "name": "stdout",
     "output_type": "stream",
     "text": [
      "0\n",
      "1\n",
      "2\n",
      "3\n",
      "4\n",
      "5\n",
      "6\n",
      "7\n",
      "8\n",
      "9\n"
     ]
    }
   ],
   "source": [
    "for j in range(0,10):\n",
    "    print(j)"
   ]
  },
  {
   "cell_type": "markdown",
   "id": "61a6891e",
   "metadata": {},
   "source": [
    "here range(0,10,1) means end=(10-1) we are \n",
    "inputting start paramenter start=0 and step parameter 1 so if we use range(0,10,1) in a for loop it loops \n",
    "the statements the \"end\" number of times starting from \"start\" parameter value and steps with 1 every time\n"
   ]
  },
  {
   "cell_type": "code",
   "execution_count": 66,
   "id": "c8ab67b7",
   "metadata": {},
   "outputs": [
    {
     "name": "stdout",
     "output_type": "stream",
     "text": [
      "0\n",
      "1\n",
      "2\n",
      "3\n",
      "4\n",
      "5\n",
      "6\n",
      "7\n",
      "8\n",
      "9\n"
     ]
    }
   ],
   "source": [
    "#example\n",
    "for k in range(0,10,1):\n",
    "    print(k)"
   ]
  },
  {
   "cell_type": "markdown",
   "id": "0d29cec4",
   "metadata": {},
   "source": [
    " "
   ]
  },
  {
   "cell_type": "markdown",
   "id": "774b4d57",
   "metadata": {},
   "source": [
    "12. Write a short program that prints the numbers 1 to 10 using a for loop. Then write an equivalent program that prints the numbers 1 to 10 using a while loop.\n"
   ]
  },
  {
   "cell_type": "code",
   "execution_count": 71,
   "id": "e946e628",
   "metadata": {},
   "outputs": [
    {
     "name": "stdout",
     "output_type": "stream",
     "text": [
      "------ for loop ---\n",
      "1\n",
      "2\n",
      "3\n",
      "4\n",
      "5\n",
      "6\n",
      "7\n",
      "8\n",
      "9\n",
      "10\n",
      "---while loop----\n",
      "1\n",
      "2\n",
      "3\n",
      "4\n",
      "5\n",
      "6\n",
      "7\n",
      "8\n",
      "9\n",
      "10\n"
     ]
    }
   ],
   "source": [
    "# A.\n",
    "print(\"------ for loop ---\")\n",
    "for i in range(1,10+1):\n",
    "    print(i)\n",
    "print(\"---while loop----\")\n",
    "i=1\n",
    "while(i<=10):\n",
    "        print(i)\n",
    "        i+=1"
   ]
  },
  {
   "cell_type": "markdown",
   "id": "e1813fc1",
   "metadata": {},
   "source": [
    " "
   ]
  },
  {
   "cell_type": "markdown",
   "id": "42ce8163",
   "metadata": {},
   "source": [
    "13. If you had a function named bacon() inside a module named spam, how would you call it after importing spam?\n"
   ]
  },
  {
   "cell_type": "markdown",
   "id": "0c2c41e9",
   "metadata": {},
   "source": [
    "A. spam.bacon()"
   ]
  },
  {
   "cell_type": "code",
   "execution_count": null,
   "id": "06ef4e64",
   "metadata": {},
   "outputs": [],
   "source": []
  }
 ],
 "metadata": {
  "kernelspec": {
   "display_name": "Python 3 (ipykernel)",
   "language": "python",
   "name": "python3"
  },
  "language_info": {
   "codemirror_mode": {
    "name": "ipython",
    "version": 3
   },
   "file_extension": ".py",
   "mimetype": "text/x-python",
   "name": "python",
   "nbconvert_exporter": "python",
   "pygments_lexer": "ipython3",
   "version": "3.9.7"
  }
 },
 "nbformat": 4,
 "nbformat_minor": 5
}
