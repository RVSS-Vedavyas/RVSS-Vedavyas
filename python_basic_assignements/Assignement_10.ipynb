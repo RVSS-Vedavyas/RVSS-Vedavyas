{
 "cells": [
  {
   "cell_type": "markdown",
   "id": "b206dcc1",
   "metadata": {},
   "source": [
    "1).How do you distinguish between shutil.copy() and shutil.copytree()\n",
    "\n",
    "A.\n",
    "\n",
    "shutil.copy() method is used to copy the contents of a file from one file to another file/folder, it primary takes two arguments `src`,`dest`, `src` represents the file to be copied where as destination refers to the file/folder to where the `src` data should be copied, if `dest` is a folder name the `src` with exact name will be copied to the `dest` folder, if its a file then the contents of `src` will be copied to `dest` where `dest` retains it name.\n",
    "\n",
    "shutil.copytree() function is used to copy the entire contents of a folder to other folder. it also takes two arguments `src` & `dest`, it copies all the content recursively and stores it in `dest`. the important catch here is `dest` must not exist prior to this and it will be created during the copy operation."
   ]
  },
  {
   "cell_type": "markdown",
   "id": "4523566e",
   "metadata": {},
   "source": [
    " "
   ]
  },
  {
   "cell_type": "markdown",
   "id": "afc230f1",
   "metadata": {},
   "source": [
    "2. What function is used to rename files??\n",
    "\n",
    "A.\n",
    "\n",
    "`os.rename()` function is used to rename files or directories using a python program, this function takes two arguments `src` and `dest`, `src` represents the name file/directory which we want to rename, whereas `dest` represents the new name of the file/directory."
   ]
  },
  {
   "cell_type": "markdown",
   "id": "f3faa5f3",
   "metadata": {},
   "source": [
    " "
   ]
  },
  {
   "cell_type": "markdown",
   "id": "4ac5af74",
   "metadata": {},
   "source": [
    "3. What is the difference between the delete functions in the send2trash and shutil modules?\n",
    "\n",
    "A.\n",
    "\n",
    "Shutil module provides a funciton called as `shutil.rmtree()` which deletes a directory and all its contents. The other functions with similar functionality are `os.remove()` -> removes a file, `os.rmdir()` removes a empty directory. if a file is deleted accidentally using these methods there is no way we can recover the deleted file\n",
    "\n",
    "Where as send2trash module provides a function called `send2trash.send2trash()` to delete a file/directory. these methods moves the files/directories to trash folder instead of permanently deleting them. hence if a file/folder is deleted accidentally it can be still recovered from trash folder, if is deleted using the `send2trash.send2trash()` function. `send2trash` is not included with python standard libary like `os` & `shutil` modules. it needs to be installed explicitly using the command `!pip install send2trash`"
   ]
  },
  {
   "cell_type": "markdown",
   "id": "5c518279",
   "metadata": {},
   "source": [
    " "
   ]
  },
  {
   "cell_type": "markdown",
   "id": "1836f3a1",
   "metadata": {},
   "source": [
    " 4.ZipFile objects have a close() method just like File objects’ close() method. What ZipFile method is equivalent to File objects’ open() method?\n",
    "\n",
    "A.\n",
    "\n",
    "ZipFile Module provides a method called as `zipfile.ZipFile()` to read and write to zipFiles. it takes arugments like filename and mode etc `zipfile.ZipFile('filename', mode = 'r')`"
   ]
  },
  {
   "cell_type": "markdown",
   "id": "f54ea1b7",
   "metadata": {},
   "source": [
    " "
   ]
  },
  {
   "cell_type": "markdown",
   "id": "497b59b4",
   "metadata": {},
   "source": [
    " 5. Create a programme that searches a folder tree for files with a certain file extension (such as .pdf or .jpg). Copy these files from whatever location they are in to a new folder"
   ]
  },
  {
   "cell_type": "code",
   "execution_count": 10,
   "id": "142d5c00",
   "metadata": {},
   "outputs": [],
   "source": [
    "import shutil\n",
    "import os,sys\n",
    "\n",
    "def search_and_copy(source,destination,extensions):\n",
    "    source = os.path.abspath(source)\n",
    "    destination = os.path.abspath(destination)\n",
    "    for foldername, subfolder, filenames in os.walk(source):\n",
    "        print(f'Folder Name ➞ {foldername}',end='\\n\\n')\n",
    "        print(f'Sub Folders ➞ {subfolder}',end='\\n\\n')\n",
    "        print(f'Files ➞ {filenames}',end='\\n\\n')\n",
    "        for filename in filenames:\n",
    "            fileName,extension = os.path.splitext(filename)\n",
    "            if extension in extensions:\n",
    "                targetFile = foldername+os.path.sep+fileName+extension\n",
    "                shutil.copy(targetFile, destination)\n",
    "        print(f'Files copied successfully from {source} to {destination}')"
   ]
  },
  {
   "cell_type": "code",
   "execution_count": 14,
   "id": "42a0ed97",
   "metadata": {},
   "outputs": [
    {
     "name": "stdout",
     "output_type": "stream",
     "text": [
      "Folder Name ➞ /home/vedavyas/Documents/ineuron_ipython/Python Basic Assignment/source_dir\n",
      "\n",
      "Sub Folders ➞ []\n",
      "\n",
      "Files ➞ ['Assignement_4.ipynb', 'Assignement_10.ipynb', 'Assignement_6.ipynb', 'Assignement_5.ipynb', 'Assignement_9.ipynb', 'Assignement_7.ipynb', 'Assignement_1.ipynb', 'Assignement_2.ipynb', 'Assignement_3.ipynb', 'Assignement_8.ipynb']\n",
      "\n",
      "Files copied successfully from /home/vedavyas/Documents/ineuron_ipython/Python Basic Assignment/source_dir to /home/vedavyas/Documents/ineuron_ipython/Python Basic Assignment/dest_dir\n"
     ]
    }
   ],
   "source": [
    "source=\"./source_dir/\"\n",
    "destination=\"./dest_dir/\"\n",
    "extensions = ['.pdf','.jpg','.ipynb']\n",
    "\n",
    "search_and_copy(source,destination,extensions)\n"
   ]
  },
  {
   "cell_type": "markdown",
   "id": "687d9c2c",
   "metadata": {},
   "source": [
    " "
   ]
  },
  {
   "cell_type": "code",
   "execution_count": null,
   "id": "c1dd6a92",
   "metadata": {},
   "outputs": [],
   "source": []
  },
  {
   "cell_type": "code",
   "execution_count": null,
   "id": "48e24884",
   "metadata": {},
   "outputs": [],
   "source": []
  }
 ],
 "metadata": {
  "kernelspec": {
   "display_name": "Python 3 (ipykernel)",
   "language": "python",
   "name": "python3"
  },
  "language_info": {
   "codemirror_mode": {
    "name": "ipython",
    "version": 3
   },
   "file_extension": ".py",
   "mimetype": "text/x-python",
   "name": "python",
   "nbconvert_exporter": "python",
   "pygments_lexer": "ipython3",
   "version": "3.9.7"
  }
 },
 "nbformat": 4,
 "nbformat_minor": 5
}
