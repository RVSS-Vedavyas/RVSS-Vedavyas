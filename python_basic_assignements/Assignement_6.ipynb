{
 "cells": [
  {
   "cell_type": "markdown",
   "id": "3d37ed3f",
   "metadata": {},
   "source": [
    "1. What are escape characters, and how do you use them?"
   ]
  },
  {
   "cell_type": "markdown",
   "id": "6deb9d9f",
   "metadata": {},
   "source": [
    "A.\n",
    "escape charecters are type of a character without out it its impossible to write certain strings.\n",
    "normally we use '\\<a letter>' every escape has its own\n",
    "functionality\n",
    "example : \"\\n\",\"\\t\",\"\\r\" etc"
   ]
  },
  {
   "cell_type": "markdown",
   "id": "fa99f5b3",
   "metadata": {},
   "source": [
    " "
   ]
  },
  {
   "cell_type": "markdown",
   "id": "e5297cb7",
   "metadata": {},
   "source": [
    "2. What do the escape characters n and t stand for?"
   ]
  },
  {
   "cell_type": "markdown",
   "id": "d5a97027",
   "metadata": {},
   "source": [
    "A. '\\n' used for nextline\n",
    "\n",
    "    '\\t' used for tabspace\n",
    "    "
   ]
  },
  {
   "cell_type": "code",
   "execution_count": 4,
   "id": "574594cb",
   "metadata": {},
   "outputs": [
    {
     "name": "stdout",
     "output_type": "stream",
     "text": [
      "hai\n",
      "hello\n",
      "hai\thello\n"
     ]
    }
   ],
   "source": [
    "#proof\n",
    "print(\"hai\\nhello\")\n",
    "print(\"hai\\thello\")"
   ]
  },
  {
   "cell_type": "markdown",
   "id": "1a2d8750",
   "metadata": {},
   "source": [
    " "
   ]
  },
  {
   "cell_type": "markdown",
   "id": "3168d42b",
   "metadata": {},
   "source": [
    "3. What is the way to include backslash characters in a string?"
   ]
  },
  {
   "cell_type": "markdown",
   "id": "28717134",
   "metadata": {},
   "source": [
    "A. `\\\\` can be used to represent \\ in a string"
   ]
  },
  {
   "cell_type": "markdown",
   "id": "5b7e4f27",
   "metadata": {},
   "source": [
    " "
   ]
  },
  {
   "cell_type": "markdown",
   "id": "cae2e9a8",
   "metadata": {},
   "source": [
    "4. The string \"Howl's Moving Castle\" is a correct value. Why isn't the single quote character in the word Howl's not escaped a problem?"
   ]
  },
  {
   "cell_type": "markdown",
   "id": "c814d5cc",
   "metadata": {},
   "source": [
    "A. \"Howl's Moving Castle\" string escaped the problem of ' as the whole string is wrapped up \n",
    "with a double quote .if we have to use single quote for this string then it may create a proble at the apostrip(') so it order to avoid it we use \\' in single quots it avoids problem"
   ]
  },
  {
   "cell_type": "code",
   "execution_count": 12,
   "id": "6c842550",
   "metadata": {},
   "outputs": [
    {
     "ename": "SyntaxError",
     "evalue": "invalid syntax (3839093134.py, line 2)",
     "output_type": "error",
     "traceback": [
      "\u001b[0;36m  File \u001b[0;32m\"/tmp/ipykernel_20985/3839093134.py\"\u001b[0;36m, line \u001b[0;32m2\u001b[0m\n\u001b[0;31m    'Howl's Moving Castle'\u001b[0m\n\u001b[0m          ^\u001b[0m\n\u001b[0;31mSyntaxError\u001b[0m\u001b[0;31m:\u001b[0m invalid syntax\n"
     ]
    }
   ],
   "source": [
    "#proof of problem\n",
    "'Howl's Moving Castle'\n"
   ]
  },
  {
   "cell_type": "code",
   "execution_count": 13,
   "id": "64d0921e",
   "metadata": {},
   "outputs": [
    {
     "data": {
      "text/plain": [
       "\"Howl's Moving Castle\""
      ]
     },
     "execution_count": 13,
     "metadata": {},
     "output_type": "execute_result"
    }
   ],
   "source": [
    "# solution for problem\n",
    "'Howl\\'s Moving Castle'"
   ]
  },
  {
   "cell_type": "markdown",
   "id": "579c6be1",
   "metadata": {},
   "source": [
    " "
   ]
  },
  {
   "cell_type": "markdown",
   "id": "d490e133",
   "metadata": {},
   "source": [
    "5. How do you write a string of newlines if you don't want to use the n character?"
   ]
  },
  {
   "cell_type": "markdown",
   "id": "15c32461",
   "metadata": {},
   "source": [
    "A. we can use multiline string `''' <strings>'''` in order to avoid using \\n"
   ]
  },
  {
   "cell_type": "code",
   "execution_count": 15,
   "id": "05a50167",
   "metadata": {},
   "outputs": [],
   "source": [
    "#proof\n",
    "a='''\n",
    "this is vedavyas\n",
    "\n",
    "ineuron 2021 nov \n",
    "batch student\n",
    "'''"
   ]
  },
  {
   "cell_type": "code",
   "execution_count": 17,
   "id": "8b1568b2",
   "metadata": {},
   "outputs": [
    {
     "name": "stdout",
     "output_type": "stream",
     "text": [
      "\n",
      "this is vedavyas\n",
      "\n",
      "ineuron 2021 nov \n",
      "batch student\n",
      "\n"
     ]
    }
   ],
   "source": [
    "print(a)"
   ]
  },
  {
   "cell_type": "markdown",
   "id": "6e545312",
   "metadata": {},
   "source": [
    " "
   ]
  },
  {
   "cell_type": "markdown",
   "id": "ef0a6847",
   "metadata": {},
   "source": [
    "6. What are the values of the given expressions?\n",
    "\n",
    "'Hello, world!'[1]\n",
    "\n",
    "'Hello, world!'[0:5]\n",
    "\n",
    "'Hello, world!'[:5]\n",
    "\n",
    "'Hello, world!'[3:]\n"
   ]
  },
  {
   "cell_type": "markdown",
   "id": "8b53d93c",
   "metadata": {},
   "source": [
    "A. manual interpration\n",
    "\n",
    "'Hello, world!'[1] = 'e'\n",
    "\n",
    "'Hello, world!'[0:5] ='Hello'\n",
    "\n",
    "'Hello, world!'[:5] = 'Hello'\n",
    "\n",
    "'Hello, world!'[3:] = 'lo, world!'\n"
   ]
  },
  {
   "cell_type": "code",
   "execution_count": 20,
   "id": "d88b88d4",
   "metadata": {},
   "outputs": [
    {
     "name": "stdout",
     "output_type": "stream",
     "text": [
      "e Hello Hello lo, world!\n"
     ]
    }
   ],
   "source": [
    "#proof\n",
    "\n",
    "print('Hello, world!'[1],'Hello, world!'[0:5],'Hello, world!'[:5],'Hello, world!'[3:])\n"
   ]
  },
  {
   "cell_type": "markdown",
   "id": "32a39e46",
   "metadata": {},
   "source": [
    " "
   ]
  },
  {
   "cell_type": "markdown",
   "id": "cd01d846",
   "metadata": {},
   "source": [
    "7. What are the values of the following expressions?\n",
    "\n",
    "'Hello'.upper()\n",
    "\n",
    "'Hello'.upper().isupper()\n",
    "\n",
    "'Hello'.upper().lower()\n"
   ]
  },
  {
   "cell_type": "markdown",
   "id": "106cf625",
   "metadata": {},
   "source": [
    " A. manual interpration\n",
    " \n",
    "'Hello'.upper() ='HELLO'\n",
    "\n",
    "'Hello'.upper().isupper()=True\n",
    "\n",
    "'Hello'.upper().lower()='hello'"
   ]
  },
  {
   "cell_type": "code",
   "execution_count": 21,
   "id": "30d9f9e2",
   "metadata": {},
   "outputs": [
    {
     "name": "stdout",
     "output_type": "stream",
     "text": [
      "HELLO True hello\n"
     ]
    }
   ],
   "source": [
    "#proof\n",
    "\n",
    "print('Hello'.upper(),'Hello'.upper().isupper(),'Hello'.upper().lower())"
   ]
  },
  {
   "cell_type": "markdown",
   "id": "4cb2c8f4",
   "metadata": {},
   "source": [
    " "
   ]
  },
  {
   "cell_type": "markdown",
   "id": "3709e3f3",
   "metadata": {},
   "source": [
    "8. What are the values of the following expressions?\n",
    "\n",
    "'Remember, remember, the fifth of July.'.split()\n",
    "\n",
    "'-'.join('There can only one.'.split())\n"
   ]
  },
  {
   "cell_type": "markdown",
   "id": "cd5fcb47",
   "metadata": {},
   "source": [
    "A.manual interepration\n",
    "\n",
    "'Remember, remember, the fifth of July.'.split()=['Remember','remember','the','fifth','of','July.']\n",
    "\n",
    "'-'.join('There can only one.'.split()) = 'There-can-only-one.'\n",
    "\n"
   ]
  },
  {
   "cell_type": "code",
   "execution_count": 24,
   "id": "923a447d",
   "metadata": {},
   "outputs": [
    {
     "data": {
      "text/plain": [
       "['Remember,', 'remember,', 'the', 'fifth', 'of', 'July.']"
      ]
     },
     "execution_count": 24,
     "metadata": {},
     "output_type": "execute_result"
    }
   ],
   "source": [
    "#proof\n",
    "\n",
    "'Remember, remember, the fifth of July.'.split()"
   ]
  },
  {
   "cell_type": "code",
   "execution_count": 25,
   "id": "6a48e115",
   "metadata": {},
   "outputs": [
    {
     "data": {
      "text/plain": [
       "'There-can-only-one.'"
      ]
     },
     "execution_count": 25,
     "metadata": {},
     "output_type": "execute_result"
    }
   ],
   "source": [
    "'-'.join('There can only one.'.split())"
   ]
  },
  {
   "cell_type": "markdown",
   "id": "cf62cae9",
   "metadata": {},
   "source": [
    " "
   ]
  },
  {
   "cell_type": "markdown",
   "id": "007917c6",
   "metadata": {},
   "source": [
    "9. What are the methods for right-justifying, left-justifying, and centering a string?"
   ]
  },
  {
   "cell_type": "markdown",
   "id": "18aaaea3",
   "metadata": {},
   "source": [
    "A . `rjust()`,`ljust()`,`center()`"
   ]
  },
  {
   "cell_type": "markdown",
   "id": "63c572eb",
   "metadata": {},
   "source": [
    " "
   ]
  },
  {
   "cell_type": "markdown",
   "id": "657a8ee7",
   "metadata": {},
   "source": [
    "10.What is the best way to remove whitespace characters from the start or end?"
   ]
  },
  {
   "cell_type": "markdown",
   "id": "cecb41b4",
   "metadata": {},
   "source": [
    "A. `lstrip()` , `rstrip()`"
   ]
  }
 ],
 "metadata": {
  "kernelspec": {
   "display_name": "Python 3 (ipykernel)",
   "language": "python",
   "name": "python3"
  },
  "language_info": {
   "codemirror_mode": {
    "name": "ipython",
    "version": 3
   },
   "file_extension": ".py",
   "mimetype": "text/x-python",
   "name": "python",
   "nbconvert_exporter": "python",
   "pygments_lexer": "ipython3",
   "version": "3.9.7"
  }
 },
 "nbformat": 4,
 "nbformat_minor": 5
}
