{
 "cells": [
  {
   "cell_type": "markdown",
   "id": "4ecb0fb6",
   "metadata": {},
   "source": [
    "1. What is the name of the feature responsible for generating Regex objects?"
   ]
  },
  {
   "cell_type": "markdown",
   "id": "0773bdf9",
   "metadata": {},
   "source": [
    "A. re.compile() generates Regex objects"
   ]
  },
  {
   "cell_type": "code",
   "execution_count": 5,
   "id": "a9fa1a8f",
   "metadata": {},
   "outputs": [
    {
     "name": "stdout",
     "output_type": "stream",
     "text": [
      "['vedavyas', 'vedavyas']\n"
     ]
    }
   ],
   "source": [
    "#proof\n",
    "import re\n",
    "pattern=re.compile('vedavyas')\n",
    "result=pattern.findall('vedavyas example for regular expressionvedavyas')\n",
    "print(result)"
   ]
  },
  {
   "cell_type": "markdown",
   "id": "793e86b1",
   "metadata": {},
   "source": [
    "2. Why do raw strings often appear in Regex objects?"
   ]
  },
  {
   "cell_type": "markdown",
   "id": "90388b7e",
   "metadata": {},
   "source": [
    "A. Regular expressions use the backslash character ('\\')  to allow special characters (speical sequences) to be used  without invoking their special meaning. This collides with Python’s usage of the same character for the same purpose in string literals. Hence, Raw strings are used (e.g. r\"\\n\") so that backslashes do not have to be escaped"
   ]
  },
  {
   "cell_type": "markdown",
   "id": "c76f5885",
   "metadata": {},
   "source": [
    " "
   ]
  },
  {
   "cell_type": "markdown",
   "id": "79a55ae0",
   "metadata": {},
   "source": [
    "3. What is the return value of the search() method?"
   ]
  },
  {
   "cell_type": "markdown",
   "id": "6c932948",
   "metadata": {},
   "source": [
    "A. re.search() method returns the matched object and its start to end indexes else if nothing is matched it returns none"
   ]
  },
  {
   "cell_type": "code",
   "execution_count": 8,
   "id": "cdef03ae",
   "metadata": {},
   "outputs": [
    {
     "name": "stdout",
     "output_type": "stream",
     "text": [
      "example1= <re.Match object; span=(18, 21), match='521'> example2= None\n"
     ]
    }
   ],
   "source": [
    "#proof\n",
    "partten=\"\\d{3}\"\n",
    "string=\"my roll number is 521\"\n",
    "print(\"example1=\",re.search(partten,string),\"example2=\",re.search(partten,\"vedavyas\"))"
   ]
  },
  {
   "cell_type": "markdown",
   "id": "47a68529",
   "metadata": {},
   "source": [
    " "
   ]
  },
  {
   "cell_type": "markdown",
   "id": "ae5a4460",
   "metadata": {},
   "source": [
    "4. From a Match item, how do you get the actual strings that match the pattern?"
   ]
  },
  {
   "cell_type": "markdown",
   "id": "9ee1d3d8",
   "metadata": {},
   "source": [
    "A.group is the method that returns the string of matched partten"
   ]
  },
  {
   "cell_type": "code",
   "execution_count": 10,
   "id": "ca3ec5bc",
   "metadata": {},
   "outputs": [
    {
     "name": "stdout",
     "output_type": "stream",
     "text": [
      "521\n"
     ]
    }
   ],
   "source": [
    "#proof\n",
    "\n",
    "#proof\n",
    "partten=\"\\d{3}\"\n",
    "string=\"my roll number is 521\"\n",
    "match=re.search(partten,string)\n",
    "print(match.group())"
   ]
  },
  {
   "cell_type": "markdown",
   "id": "0cbe4a98",
   "metadata": {},
   "source": [
    " "
   ]
  },
  {
   "cell_type": "markdown",
   "id": "cde05822",
   "metadata": {},
   "source": [
    "5. In the regex which created from the r'(\\d\\d\\d)-(\\d\\d\\d-\\d\\d\\d\\d)', what does group zero cover? Group 2? Group 1?"
   ]
  },
  {
   "cell_type": "markdown",
   "id": "500e71a1",
   "metadata": {},
   "source": [
    "A .the zero group covers the entire pattern match where as the first group cover (\\d\\d\\d) and the second group cover (\\d\\d\\d-\\d\\d\\d\\d)"
   ]
  },
  {
   "cell_type": "code",
   "execution_count": 17,
   "id": "aef49ac6",
   "metadata": {},
   "outputs": [
    {
     "name": "stdout",
     "output_type": "stream",
     "text": [
      "('954', '222-3140')\n",
      "954-222-3140\n",
      "954\n",
      "222-3140\n"
     ]
    }
   ],
   "source": [
    "#proof\n",
    "import re\n",
    "phonenum_partten = re.compile(r'(\\d\\d\\d)-(\\d\\d\\d-\\d\\d\\d\\d)')\n",
    "mo = phonenum_partten.search('My number is 954-222-3140.')\n",
    "print(mo.groups()) # Prints all groups in a tuple format\n",
    "print(mo.group()) # Always returns the fully matched string \n",
    "print(mo.group(1)) # Returns the first group\n",
    "print(mo.group(2)) # Returns the second group"
   ]
  },
  {
   "cell_type": "markdown",
   "id": "4a3fb821",
   "metadata": {},
   "source": [
    " "
   ]
  },
  {
   "cell_type": "markdown",
   "id": "aa89f49f",
   "metadata": {},
   "source": [
    "6. In standard expression syntax, parentheses and intervals have distinct meanings. How can you tell a regex that you want it to fit real parentheses and periods?"
   ]
  },
  {
   "cell_type": "markdown",
   "id": "78b1f26d",
   "metadata": {},
   "source": [
    "A. The \\( and \\) escape characters in the raw string passed to re.compile() will match actual parenthesis characters."
   ]
  },
  {
   "cell_type": "code",
   "execution_count": 22,
   "id": "5192b5e5",
   "metadata": {},
   "outputs": [
    {
     "name": "stdout",
     "output_type": "stream",
     "text": [
      "(954)-222-3140\n"
     ]
    }
   ],
   "source": [
    "# A. #proof\n",
    "import re\n",
    "phonenum_partten = re.compile(r'(\\(\\d\\d\\d)\\)-(\\d\\d\\d-\\d\\d\\d\\d)')\n",
    "mo = phonenum_partten.search('My number is (954)-222-3140.')\n",
    "print(mo.group()) # Always returns the fully matched string "
   ]
  },
  {
   "cell_type": "markdown",
   "id": "d67eac18",
   "metadata": {},
   "source": [
    "  "
   ]
  },
  {
   "cell_type": "markdown",
   "id": "ea1dc936",
   "metadata": {},
   "source": [
    "8. In standard expressions, what does the | character mean? "
   ]
  },
  {
   "cell_type": "markdown",
   "id": "c30abc80",
   "metadata": {},
   "source": [
    "A. | this pipe symbol represents OR in an expression"
   ]
  },
  {
   "cell_type": "code",
   "execution_count": null,
   "id": "fe8eade7",
   "metadata": {},
   "outputs": [],
   "source": []
  },
  {
   "cell_type": "markdown",
   "id": "10f220ae",
   "metadata": {},
   "source": [
    "9. In regular expressions, what does the `?` character stand for?"
   ]
  },
  {
   "cell_type": "markdown",
   "id": "6bbc66f4",
   "metadata": {},
   "source": [
    "A: In regular Expressions, ? characters represents zero or one match of the preceeding group."
   ]
  },
  {
   "cell_type": "code",
   "execution_count": 7,
   "id": "bd563d88",
   "metadata": {},
   "outputs": [
    {
     "name": "stdout",
     "output_type": "stream",
     "text": [
      "superman\n",
      "superwoman\n"
     ]
    }
   ],
   "source": [
    "#proof\n",
    "import re\n",
    "match_1 = re.search(\"super(wo)?man\",\"superman returns\")\n",
    "print(match_1.group())\n",
    "match_2 = re.search(\"super(wo)?man\",\"superwoman returns\")\n",
    "print(match_2.group())"
   ]
  },
  {
   "cell_type": "markdown",
   "id": "3cc4654e",
   "metadata": {},
   "source": []
  },
  {
   "cell_type": "markdown",
   "id": "589a02f8",
   "metadata": {},
   "source": [
    "10.In regular expressions, what is the difference between the + and * characters?"
   ]
  },
  {
   "cell_type": "markdown",
   "id": "de6aa9cc",
   "metadata": {},
   "source": [
    "A. In Regular Expressions, * Represents Zero or more occurances of the preceeding group, whereas + represents one or more occurances of the preceeding group."
   ]
  },
  {
   "cell_type": "code",
   "execution_count": 8,
   "id": "12f91b5f",
   "metadata": {},
   "outputs": [
    {
     "name": "stdout",
     "output_type": "stream",
     "text": [
      "<re.Match object; span=(0, 8), match='superman'>\n",
      "None\n"
     ]
    }
   ],
   "source": [
    "#proof\n",
    "import re\n",
    "match_1 = re.search(\"super(wo)*man\",\"superman returns\")\n",
    "print(match_1)\n",
    "match_2 = re.search(\"super(wo)+man\",\"superman returns\")\n",
    "print(match_2)"
   ]
  },
  {
   "cell_type": "markdown",
   "id": "c656a393",
   "metadata": {},
   "source": [
    " "
   ]
  },
  {
   "cell_type": "markdown",
   "id": "7474a23f",
   "metadata": {},
   "source": [
    "11. What is the difference between {4} and {4,5} in regular expression?"
   ]
  },
  {
   "cell_type": "markdown",
   "id": "c66b9202",
   "metadata": {},
   "source": [
    "A.{4} means that its preceeding group should repeat 4 times. where as {4,5} means that its preceeding group should repeat mininum 4 times and maximum 5 times inclusively"
   ]
  },
  {
   "cell_type": "code",
   "execution_count": 10,
   "id": "044d4ec2",
   "metadata": {},
   "outputs": [
    {
     "name": "stdout",
     "output_type": "stream",
     "text": [
      "HaHaHa\n",
      "None\n"
     ]
    }
   ],
   "source": [
    "#proof\n",
    "import re\n",
    "haRegex = re.compile(r'(Ha){3}')\n",
    "mo1 = haRegex.search('HaHaHa')\n",
    "mo2 = haRegex.search('Ha')\n",
    "print(mo1.group())\n",
    "print(mo2)"
   ]
  },
  {
   "cell_type": "markdown",
   "id": "e5eaee30",
   "metadata": {},
   "source": [
    " "
   ]
  },
  {
   "cell_type": "markdown",
   "id": "de2e5a24",
   "metadata": {},
   "source": [
    "12. What do you mean by the \\d, \\w, and \\s shorthand character classes signify in regular expressions?"
   ]
  },
  {
   "cell_type": "markdown",
   "id": "e5127b2a",
   "metadata": {},
   "source": [
    "A.\n",
    "1. \\w – Matches a word character equivalent to [a-zA-Z0-9_]\n",
    "2. \\d – Matches digit character equivalent to [0-9]\n",
    "3. \\s – Matches whitespace character (space, tab, newline, etc.)"
   ]
  },
  {
   "cell_type": "markdown",
   "id": "6b40bf26",
   "metadata": {},
   "source": [
    "13. What do means by \\D, \\W, and \\S shorthand character classes signify in regular expressions?"
   ]
  },
  {
   "cell_type": "markdown",
   "id": "495566d0",
   "metadata": {},
   "source": [
    "A. \\D, \\W and \\S are special sequences in regular expresssions in python:\n",
    "1. \\W – Matches any non-alphanumeric character equivalent to [^a-zA-Z0-9_]\n",
    "2. \\D – Matches any non-digit character, this is equivalent to the set class [^0-9]\n",
    "3. \\S – Matches any non-whitespace character"
   ]
  },
  {
   "cell_type": "markdown",
   "id": "0a51e9ac",
   "metadata": {},
   "source": [
    " "
   ]
  },
  {
   "cell_type": "markdown",
   "id": "a68dec8a",
   "metadata": {},
   "source": [
    "14. What is the difference between `.*?` and `.*`?"
   ]
  },
  {
   "cell_type": "markdown",
   "id": "8565d1a0",
   "metadata": {},
   "source": [
    "A.\n",
    "`.*` is a Greedy mode, which returns the longest string that meets the condition. Whereas `.*?` is a non greedy mode which returns the shortest string that meets the condition."
   ]
  },
  {
   "cell_type": "markdown",
   "id": "6856dc72",
   "metadata": {},
   "source": [
    " "
   ]
  },
  {
   "cell_type": "markdown",
   "id": "e8601179",
   "metadata": {},
   "source": [
    "15. What is the syntax for matching both numbers and lowercase letters with a character class?\n",
    "\n",
    "\n",
    "A. \n",
    "\n",
    "The Synatax is Either `[a-z0-9]` or `[0-9a-z]`"
   ]
  },
  {
   "cell_type": "markdown",
   "id": "15e1cd0c",
   "metadata": {},
   "source": [
    " "
   ]
  },
  {
   "cell_type": "markdown",
   "id": "a610daa1",
   "metadata": {},
   "source": [
    "16. What is the procedure for making a normal expression in regax case insensitive?\n",
    "\n",
    "\n",
    "\n",
    "A. We can pass `re.IGNORECASE` as a flag to make a noraml expression case insensitive"
   ]
  },
  {
   "cell_type": "markdown",
   "id": "64dad174",
   "metadata": {},
   "source": [
    " "
   ]
  },
  {
   "cell_type": "markdown",
   "id": "e07e3a5d",
   "metadata": {},
   "source": [
    "17. What does the . character normally match? What does it match if re.DOTALL is passed as 2nd argument in re.compile()?\n",
    "\n",
    "A. \n",
    "\n",
    "Dot `.` character matches everything in input except newline character `.`. By passing `re.DOTALL` as a flag to `re.compile()`, you can make the dot character match all characters, including the newline character."
   ]
  },
  {
   "cell_type": "markdown",
   "id": "cbd5b2c0",
   "metadata": {},
   "source": [
    " "
   ]
  },
  {
   "cell_type": "markdown",
   "id": "1751e562",
   "metadata": {},
   "source": [
    "18. If numReg = re.compile(r'\\d+'), what will numRegex.sub('X', '11 drummers, 10 pipers, five rings, 4 hen') return?\n",
    "\n",
    "\n",
    "A. The Ouput will be `'X drummers, X pipers, five rings, X hen'`"
   ]
  },
  {
   "cell_type": "markdown",
   "id": "44525498",
   "metadata": {},
   "source": [
    " "
   ]
  },
  {
   "cell_type": "code",
   "execution_count": 15,
   "id": "726c7972",
   "metadata": {},
   "outputs": [
    {
     "data": {
      "text/plain": [
       "'X drummers, X pipers, five rings, X hen'"
      ]
     },
     "execution_count": 15,
     "metadata": {},
     "output_type": "execute_result"
    }
   ],
   "source": [
    "import re\n",
    "numReg = re.compile(r'\\d+')\n",
    "numReg.sub('X', '11 drummers, 10 pipers, five rings, 4 hen')"
   ]
  },
  {
   "cell_type": "markdown",
   "id": "ffbc8f65",
   "metadata": {},
   "source": [
    "19. What does passing re.VERBOSE as the 2nd argument to re.compile() allow to do?\n",
    "\n",
    "\n",
    "A. `re.VERBOSE` will allow to add whitespace and comments to string passed to `re.compile()`."
   ]
  },
  {
   "cell_type": "code",
   "execution_count": 17,
   "id": "9c5cdfa2",
   "metadata": {},
   "outputs": [],
   "source": [
    "# Without Using VERBOSE\n",
    "regex_email = re.compile(r'^([a-z0-9_\\.-]+)@([0-9a-z\\.-]+)\\.([a-z\\.]{2, 6})$', re.IGNORECASE)\n",
    " \n",
    "# Using VERBOSE\n",
    "regex_email = re.compile(r\"\"\"\n",
    "                            ^([a-z0-9_\\.-]+)              # local Part like username\n",
    "                            @                             # single @ sign \n",
    "                            ([0-9a-z\\.-]+)                # Domain name like google\n",
    "                            \\.                            # single Dot .\n",
    "                            ([a-z]{2,6})$                 # Top level Domain  like com/in/org\n",
    "                         \"\"\",re.VERBOSE | re.IGNORECASE)   "
   ]
  },
  {
   "cell_type": "markdown",
   "id": "4a95caab",
   "metadata": {},
   "source": [
    " "
   ]
  },
  {
   "cell_type": "markdown",
   "id": "fe12cda1",
   "metadata": {},
   "source": [
    " 20. How would you write a regex that match a number with comma for every three digits? It must match the given following:\n",
    "`'42','1,234', '6,368,745'`but not the following: `'12,34,567'` (which has only two digits between the commas) `'1234'` (which lacks commas)"
   ]
  },
  {
   "cell_type": "code",
   "execution_count": 18,
   "id": "9cac7754",
   "metadata": {},
   "outputs": [
    {
     "name": "stdout",
     "output_type": "stream",
     "text": [
      "Output: 42 -> <re.Match object; span=(0, 2), match='42'>\n",
      "Output: 1,234 -> <re.Match object; span=(0, 5), match='1,234'>\n",
      "Output: 6,368,745 -> <re.Match object; span=(0, 9), match='6,368,745'>\n",
      "Output: 12,34,567 -> None\n",
      "Output: 1234 -> None\n"
     ]
    }
   ],
   "source": [
    "import re\n",
    "pattern = r'^\\d{1,3}(,\\d{3})*$'\n",
    "pagex = re.compile(pattern)\n",
    "for ele in ['42','1,234', '6,368,745','12,34,567','1234']:\n",
    "    print('Output:',ele, '->', pagex.search(ele))"
   ]
  },
  {
   "cell_type": "code",
   "execution_count": null,
   "id": "20b292fb",
   "metadata": {},
   "outputs": [],
   "source": [
    " "
   ]
  },
  {
   "cell_type": "markdown",
   "id": "40a44cdd",
   "metadata": {},
   "source": [
    "21. How would you write a regex that matches the full name of someone whose last name is Watanabe? You can assume that the first name that comes before it will always be one word that begins with a capital letter. The regex must match the following:\n",
    "`'Haruto Watanabe'`  \n",
    "`'Alice Watanabe'`  \n",
    "`'RoboCop Watanabe'`  \n",
    "\n",
    "but not the following:\n",
    "\n",
    "`'haruto Watanabe'` (where the first name is not capitalized)  \n",
    "`'Mr. Watanabe'` (where the preceding word has a nonletter character)  \n",
    "`'Watanabe'` (which has no first name)  \n",
    "`'Haruto watanabe'` (where Watanabe is not capitalized)  \n",
    "\n",
    "Ans:`pattern = r'[A-Z]{1}[a-z]*\\sWatanabe'`"
   ]
  },
  {
   "cell_type": "code",
   "execution_count": 20,
   "id": "b9dcee6f",
   "metadata": {},
   "outputs": [
    {
     "name": "stdout",
     "output_type": "stream",
     "text": [
      "Output:  Haruto Watanabe -> <re.Match object; span=(0, 15), match='Haruto Watanabe'>\n",
      "Output:  Alice Watanabe -> <re.Match object; span=(0, 14), match='Alice Watanabe'>\n",
      "Output:  RoboCop Watanabe -> <re.Match object; span=(4, 16), match='Cop Watanabe'>\n",
      "Output:  haruto Watanabe -> None\n",
      "Output:  Mr. Watanabe -> None\n",
      "Output:  Watanabe -> None\n",
      "Output:  Haruto watanabe -> None\n"
     ]
    }
   ],
   "source": [
    "import re\n",
    "pattern = r'[A-Z]{1}[a-z]*\\sWatanabe'\n",
    "namex = re.compile(pattern)\n",
    "for name in ['Haruto Watanabe','Alice Watanabe','RoboCop Watanabe','haruto Watanabe','Mr. Watanabe','Watanabe','Haruto watanabe']:\n",
    "    print('Output: ',name,'->',namex.search(name))"
   ]
  },
  {
   "cell_type": "markdown",
   "id": "019c3afc",
   "metadata": {},
   "source": [
    " "
   ]
  },
  {
   "cell_type": "markdown",
   "id": "2d794d26",
   "metadata": {},
   "source": [
    "22. How would you write a regex that matches a sentence where the first word is either Alice, Bob,or Carol; the second word is either eats, pets, or throws; the third word is apples, cats, or baseballs; and the sentence ends with a period? This regex should be case-insensitive. It must match the following:\n",
    "`'Alice eats apples.'`  \n",
    "`'Bob pets cats.'`  \n",
    "`'Carol throws baseballs.'`  \n",
    "`'Alice throws Apples.'`  \n",
    "`'BOB EATS CATS.'`  \n",
    "\n",
    "but not the following:  \n",
    "\n",
    "`'RoboCop eats apples.'`  \n",
    "`'ALICE THROWS FOOTBALLS.'`   \n",
    "`'Carol eats 7 cats.'`  \n",
    "\n",
    "A. pattern = `r'(Alice|Bob|Carol)\\s(eats|pets|throws)\\s(apples|cats|baseballs)\\.'`"
   ]
  },
  {
   "cell_type": "code",
   "execution_count": 22,
   "id": "7b760e68",
   "metadata": {},
   "outputs": [
    {
     "name": "stdout",
     "output_type": "stream",
     "text": [
      "Output:  Alice eats apples. -> <re.Match object; span=(0, 18), match='Alice eats apples.'>\n",
      "Output:  Bob pets cats. -> <re.Match object; span=(0, 14), match='Bob pets cats.'>\n",
      "Output:  Carol throws baseballs. -> <re.Match object; span=(0, 23), match='Carol throws baseballs.'>\n",
      "Output:  Alice throws Apples. -> <re.Match object; span=(0, 20), match='Alice throws Apples.'>\n",
      "Output:  BOB EATS CATS. -> <re.Match object; span=(0, 14), match='BOB EATS CATS.'>\n",
      "Output:  RoboCop eats apples. -> None\n",
      "Output:  ALICE THROWS FOOTBALLS. -> None\n",
      "Output:  Carol eats 7 cats. -> None\n"
     ]
    }
   ],
   "source": [
    "import re\n",
    "pattern = r'(Alice|Bob|Carol)\\s(eats|pets|throws)\\s(apples|cats|baseballs)\\.'\n",
    "casex = re.compile(pattern,re.IGNORECASE)\n",
    "for ele in ['Alice eats apples.','Bob pets cats.','Carol throws baseballs.','Alice throws Apples.','BOB EATS CATS.','RoboCop eats apples.'\n",
    ",'ALICE THROWS FOOTBALLS.','Carol eats 7 cats.']:\n",
    "    print('Output: ',ele,'->',casex.search(ele))"
   ]
  },
  {
   "cell_type": "code",
   "execution_count": null,
   "id": "999749e3",
   "metadata": {},
   "outputs": [],
   "source": []
  }
 ],
 "metadata": {
  "kernelspec": {
   "display_name": "Python 3 (ipykernel)",
   "language": "python",
   "name": "python3"
  },
  "language_info": {
   "codemirror_mode": {
    "name": "ipython",
    "version": 3
   },
   "file_extension": ".py",
   "mimetype": "text/x-python",
   "name": "python",
   "nbconvert_exporter": "python",
   "pygments_lexer": "ipython3",
   "version": "3.9.7"
  }
 },
 "nbformat": 4,
 "nbformat_minor": 5
}
