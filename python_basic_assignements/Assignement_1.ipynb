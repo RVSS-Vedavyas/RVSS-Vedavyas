{
 "cells": [
  {
   "cell_type": "markdown",
   "id": "0b39b8e9",
   "metadata": {},
   "source": [
    "#### 1. In the below elements which of them are values or an expression? **eg:-** values can be integer or string and expressions will be mathematical operators.  \n",
    "`*`,`'hello'`, `-87.8`,`-`,`/`,`+`,`6`"
   ]
  },
  {
   "cell_type": "markdown",
   "id": "e52c5ba1",
   "metadata": {},
   "source": [
    "A) 3 values and 4 mathematical operators\n",
    "   values: 'hello', -87.8 , 6\n",
    "   mathematical operators : *, - , / , +"
   ]
  },
  {
   "cell_type": "raw",
   "id": "54407a22",
   "metadata": {},
   "source": []
  },
  {
   "cell_type": "markdown",
   "id": "d79b202c",
   "metadata": {},
   "source": [
    "2. What is the difference between string and variable?"
   ]
  },
  {
   "cell_type": "markdown",
   "id": "ff506d0b",
   "metadata": {},
   "source": [
    "A) *)string is a datatype in python which can be the datatype of a variable.\n",
    "   where as a variable is a name given for a particular memory location  \n",
    "   *)variables are used to store the value .where as the string reffers to the type of that value thats stored in a variable\n",
    "   *) in python we define string using single quotes(' ') or double quotes(\" \")\n"
   ]
  },
  {
   "cell_type": "raw",
   "id": "5441c587",
   "metadata": {},
   "source": []
  },
  {
   "cell_type": "markdown",
   "id": "8e1713d8",
   "metadata": {},
   "source": [
    "3. Describe three different data types.\n"
   ]
  },
  {
   "cell_type": "markdown",
   "id": "6791514b",
   "metadata": {},
   "source": [
    "A) int, float and complex types\n",
    "\n",
    "int : variables of this datatype used to store integers .every element which comes under mathematical set Z (Z is a mathematical notation representing integers)\n",
    "    \n",
    "    example:(.....-3,-2,-1,0,1,2,3.....)\n",
    "\n",
    "float: variables of this datatype used to store decimal numbers \n",
    "    example: (2.3,0.005,2.78,0.2,....)\n",
    "    \n",
    "complex: variables of this type can store comple numbers i.e the numbers which are in the form of x+qj\n"
   ]
  },
  {
   "cell_type": "code",
   "execution_count": 57,
   "id": "593e7ef7",
   "metadata": {},
   "outputs": [
    {
     "name": "stdout",
     "output_type": "stream",
     "text": [
      "<class 'int'>\n",
      "<class 'float'>\n",
      "<class 'complex'>\n"
     ]
    }
   ],
   "source": [
    "#example\n",
    "a=78888\n",
    "print(type(a))\n",
    "b=237.78\n",
    "print(type(b))\n",
    "c=2+3j\n",
    "print(type(c))"
   ]
  },
  {
   "cell_type": "raw",
   "id": "c207a96c",
   "metadata": {},
   "source": []
  },
  {
   "cell_type": "markdown",
   "id": "d46f05e3",
   "metadata": {},
   "source": [
    "4. What is an expression made up of? What do all expressions do?\n"
   ]
  },
  {
   "cell_type": "markdown",
   "id": "f1d27ef7",
   "metadata": {},
   "source": [
    "A) its madeup of values and operators and also variables to generate a result"
   ]
  },
  {
   "cell_type": "code",
   "execution_count": 58,
   "id": "343f4330",
   "metadata": {},
   "outputs": [
    {
     "data": {
      "text/plain": [
       "440.2"
      ]
     },
     "execution_count": 58,
     "metadata": {},
     "output_type": "execute_result"
    }
   ],
   "source": [
    "2+3-5+7*9*7-4/5 # example for an expression"
   ]
  },
  {
   "cell_type": "code",
   "execution_count": 59,
   "id": "d43cb8c8",
   "metadata": {},
   "outputs": [
    {
     "data": {
      "text/plain": [
       "2.0"
      ]
     },
     "execution_count": 59,
     "metadata": {},
     "output_type": "execute_result"
    }
   ],
   "source": [
    "a=10\n",
    "b=5\n",
    "c=a/b #also an expression \n",
    "c"
   ]
  },
  {
   "cell_type": "code",
   "execution_count": null,
   "id": "cca27c89",
   "metadata": {},
   "outputs": [],
   "source": []
  },
  {
   "cell_type": "markdown",
   "id": "4f632554",
   "metadata": {},
   "source": [
    "5. This assignment statements, like spam = 10. What is the difference between an expression and a statement?\n"
   ]
  },
  {
   "cell_type": "markdown",
   "id": "a5d3b78c",
   "metadata": {},
   "source": [
    "A)expression is madeup of values and operators and also variables to generate a result.When we type an expression it gets evaluated by the intrepeter. it generates a value by interpreting the expression.\n",
    "\n",
    "eg: 66*78+90-6/85 is an example of a expression\n",
    "\n",
    "Any instruction written and will be executed by interpretter is a statement in python, like creating a variable like spam=10.every statement in python ends with a newline character according to python intrepretter so each and ever line of a program can be consisdered as individual statement in python\n"
   ]
  },
  {
   "cell_type": "code",
   "execution_count": null,
   "id": "5517cf30",
   "metadata": {},
   "outputs": [],
   "source": []
  },
  {
   "cell_type": "markdown",
   "id": "fcde3493",
   "metadata": {},
   "source": [
    "6. After running the following code, what does the variable bacon contain?\n",
    "bacon = 22\n",
    "bacon+1\n"
   ]
  },
  {
   "cell_type": "markdown",
   "id": "f0054a6e",
   "metadata": {},
   "source": [
    "A) until we assign the below statement to a bacon again like this bacon=bacon+1\n",
    "the bacon value will be 22 only"
   ]
  },
  {
   "cell_type": "code",
   "execution_count": 60,
   "id": "6a8e6248",
   "metadata": {},
   "outputs": [
    {
     "name": "stdout",
     "output_type": "stream",
     "text": [
      "22\n"
     ]
    }
   ],
   "source": [
    "bacon=22\n",
    "bacon+1\n",
    "print(bacon)"
   ]
  },
  {
   "cell_type": "code",
   "execution_count": null,
   "id": "e40745e1",
   "metadata": {},
   "outputs": [],
   "source": []
  },
  {
   "cell_type": "markdown",
   "id": "cbc0fc84",
   "metadata": {},
   "source": [
    "7. What should the values of the following two terms be?\n",
    "\n",
    "'spam' + 'spamspam'\n",
    " 'spam' * 3\n"
   ]
  },
  {
   "cell_type": "markdown",
   "id": "e1352139",
   "metadata": {},
   "source": [
    "A)'spam' + 'spamspam' as we already know 2 strings gets concatenated \n",
    "by using + symbol between them\n",
    "so output of 'spam' + 'spamspam' = 'spamspamspam'"
   ]
  },
  {
   "cell_type": "code",
   "execution_count": 61,
   "id": "8b4187d3",
   "metadata": {},
   "outputs": [
    {
     "data": {
      "text/plain": [
       "'spamspamspam'"
      ]
     },
     "execution_count": 61,
     "metadata": {},
     "output_type": "execute_result"
    }
   ],
   "source": [
    "#proof\n",
    "'spam'+'spamspam'"
   ]
  },
  {
   "cell_type": "markdown",
   "id": "2c96a850",
   "metadata": {},
   "source": [
    "'spam'*3 this statement represents string multiplication where the \n",
    "string gets repeated that many times of the value of the value present \n",
    "on the right of the * operator\n",
    "so here output is 'spamspamspam'"
   ]
  },
  {
   "cell_type": "code",
   "execution_count": 62,
   "id": "64fc1e49",
   "metadata": {},
   "outputs": [
    {
     "data": {
      "text/plain": [
       "'spamspamspam'"
      ]
     },
     "execution_count": 62,
     "metadata": {},
     "output_type": "execute_result"
    }
   ],
   "source": [
    "#proof\n",
    "'spam'*3"
   ]
  },
  {
   "cell_type": "code",
   "execution_count": null,
   "id": "f3e69412",
   "metadata": {},
   "outputs": [],
   "source": []
  },
  {
   "cell_type": "markdown",
   "id": "386d1272",
   "metadata": {},
   "source": [
    "8.Why is eggs a valid variable name while 100 is invalid?"
   ]
  },
  {
   "cell_type": "markdown",
   "id": "ab0dfbbd",
   "metadata": {},
   "source": [
    "A) according to python language rules any alphabet or a word here words \n",
    "except python reserved keywords\n",
    "and any alphaneumaric data which starts with alplabet or _\n",
    "can be used as a python variables\n",
    "so egg satisfy the rules of a variable where as \n",
    "100 being a number its value is constant and we already know trying to\n",
    "assign any value to a constant is wrong mathematically\n",
    "the same principal occurs in programing also"
   ]
  },
  {
   "cell_type": "code",
   "execution_count": 63,
   "id": "dadd7aea",
   "metadata": {},
   "outputs": [],
   "source": [
    "#proof\n",
    "eggs=11"
   ]
  },
  {
   "cell_type": "code",
   "execution_count": 64,
   "id": "9f7340a1",
   "metadata": {},
   "outputs": [
    {
     "ename": "SyntaxError",
     "evalue": "cannot assign to literal (2751955543.py, line 2)",
     "output_type": "error",
     "traceback": [
      "\u001b[0;36m  File \u001b[0;32m\"/tmp/ipykernel_3978/2751955543.py\"\u001b[0;36m, line \u001b[0;32m2\u001b[0m\n\u001b[0;31m    100=1 #not only programatically but mathematically also wrong\u001b[0m\n\u001b[0m    ^\u001b[0m\n\u001b[0;31mSyntaxError\u001b[0m\u001b[0;31m:\u001b[0m cannot assign to literal\n"
     ]
    }
   ],
   "source": [
    "#proof\n",
    "100=1 #not only programatically but mathematically also wrong"
   ]
  },
  {
   "cell_type": "code",
   "execution_count": null,
   "id": "b182e3d8",
   "metadata": {},
   "outputs": [],
   "source": []
  },
  {
   "cell_type": "markdown",
   "id": "e58a5e5c",
   "metadata": {},
   "source": [
    "9. What three functions can be used to get the integer, floating-point number, or string version of a value?\n"
   ]
  },
  {
   "cell_type": "markdown",
   "id": "c8e2340b",
   "metadata": {},
   "source": [
    "A) The int(),float(),and str() functions will be the integer,floating-point number,string version of the value passed\n",
    "to them"
   ]
  },
  {
   "cell_type": "code",
   "execution_count": 65,
   "id": "12beda1c",
   "metadata": {},
   "outputs": [
    {
     "name": "stdout",
     "output_type": "stream",
     "text": [
      "9\n",
      "7.0\n",
      "2\n"
     ]
    }
   ],
   "source": [
    "#example\n",
    "print(int(9.78))#converting float to int\n",
    "print(float(7))#convert int to float\n",
    "print(str(2))#converts any value to str"
   ]
  },
  {
   "cell_type": "raw",
   "id": "51016dc5",
   "metadata": {},
   "source": []
  },
  {
   "cell_type": "markdown",
   "id": "488c60dc",
   "metadata": {},
   "source": [
    "10. Why does this expression cause an error? How can you fix it?\n",
    "'I have eaten ' + 99 + ' burritos.'\n"
   ]
  },
  {
   "cell_type": "markdown",
   "id": "01ccfe57",
   "metadata": {},
   "source": [
    "A) it throws error as we are trying to concatenate string type data with int values. "
   ]
  },
  {
   "cell_type": "code",
   "execution_count": 66,
   "id": "4dec5b78",
   "metadata": {},
   "outputs": [
    {
     "ename": "TypeError",
     "evalue": "can only concatenate str (not \"int\") to str",
     "output_type": "error",
     "traceback": [
      "\u001b[0;31m---------------------------------------------------------------------------\u001b[0m",
      "\u001b[0;31mTypeError\u001b[0m                                 Traceback (most recent call last)",
      "\u001b[0;32m/tmp/ipykernel_3978/2471381841.py\u001b[0m in \u001b[0;36m<module>\u001b[0;34m\u001b[0m\n\u001b[1;32m      1\u001b[0m \u001b[0;31m#this error comes by doing that\u001b[0m\u001b[0;34m\u001b[0m\u001b[0;34m\u001b[0m\u001b[0m\n\u001b[0;32m----> 2\u001b[0;31m \u001b[0;34m'I have eaten'\u001b[0m\u001b[0;34m+\u001b[0m\u001b[0;36m99\u001b[0m\u001b[0;34m+\u001b[0m\u001b[0;34m' burritos'\u001b[0m\u001b[0;34m\u001b[0m\u001b[0;34m\u001b[0m\u001b[0m\n\u001b[0m",
      "\u001b[0;31mTypeError\u001b[0m: can only concatenate str (not \"int\") to str"
     ]
    }
   ],
   "source": [
    "#this error comes by doing that\n",
    "'I have eaten'+99+' burritos'"
   ]
  },
  {
   "cell_type": "code",
   "execution_count": 67,
   "id": "734cd570",
   "metadata": {},
   "outputs": [
    {
     "data": {
      "text/plain": [
       "'I have eaten 99 burritos'"
      ]
     },
     "execution_count": 67,
     "metadata": {},
     "output_type": "execute_result"
    }
   ],
   "source": [
    "# solution for above error\n",
    "'I have eaten '+str(99)+' burritos'# converting other types to string while concatinating solves the issue\n"
   ]
  },
  {
   "cell_type": "code",
   "execution_count": null,
   "id": "03a2ab6d",
   "metadata": {},
   "outputs": [],
   "source": []
  }
 ],
 "metadata": {
  "kernelspec": {
   "display_name": "Python 3 (ipykernel)",
   "language": "python",
   "name": "python3"
  },
  "language_info": {
   "codemirror_mode": {
    "name": "ipython",
    "version": 3
   },
   "file_extension": ".py",
   "mimetype": "text/x-python",
   "name": "python",
   "nbconvert_exporter": "python",
   "pygments_lexer": "ipython3",
   "version": "3.9.7"
  }
 },
 "nbformat": 4,
 "nbformat_minor": 5
}
