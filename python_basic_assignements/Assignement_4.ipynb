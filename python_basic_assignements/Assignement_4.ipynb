{
 "cells": [
  {
   "cell_type": "markdown",
   "id": "f1b728df",
   "metadata": {},
   "source": [
    "1. What exactly is []?"
   ]
  },
  {
   "cell_type": "markdown",
   "id": "39863922",
   "metadata": {},
   "source": [
    "A. in python we use [] to declare a list \n",
    "for example a=[] now a is an empty list "
   ]
  },
  {
   "cell_type": "code",
   "execution_count": 1,
   "id": "726afe57",
   "metadata": {},
   "outputs": [
    {
     "name": "stdout",
     "output_type": "stream",
     "text": [
      "<class 'list'>\n"
     ]
    }
   ],
   "source": [
    "#proof\n",
    "a=[]\n",
    "print(type(a))"
   ]
  },
  {
   "cell_type": "markdown",
   "id": "c05695ef",
   "metadata": {},
   "source": [
    " "
   ]
  },
  {
   "cell_type": "markdown",
   "id": "603be8d9",
   "metadata": {},
   "source": [
    "2. In a list of values stored in a variable called spam, how would you assign the value 'hello' as the third value? (Assume [2, 4, 6, 8, 10] are in spam.)\n"
   ]
  },
  {
   "cell_type": "code",
   "execution_count": 2,
   "id": "ae7e5e02",
   "metadata": {},
   "outputs": [
    {
     "name": "stdout",
     "output_type": "stream",
     "text": [
      "[2, 4, 'hello', 8, 10]\n"
     ]
    }
   ],
   "source": [
    "# A.\n",
    "spam=[2,4,6,8,10]\n",
    "spam[2]=\"hello\" # according to list indexing 3rd value means 3-1=2 as list indexes starts at 0\n",
    "print(spam)"
   ]
  },
  {
   "cell_type": "markdown",
   "id": "ff2520cb",
   "metadata": {},
   "source": [
    " "
   ]
  },
  {
   "cell_type": "markdown",
   "id": "d16de9ad",
   "metadata": {},
   "source": [
    "## Let's pretend the spam includes the list ['a', 'b', 'c', 'd'] for the next three queries.\n"
   ]
  },
  {
   "cell_type": "code",
   "execution_count": 3,
   "id": "1729f40a",
   "metadata": {},
   "outputs": [],
   "source": [
    "spam=['a','b','c','d']"
   ]
  },
  {
   "cell_type": "markdown",
   "id": "6f6d122e",
   "metadata": {},
   "source": [
    "3. What is the value of spam[int(int('3' * 2) / 11)]?"
   ]
  },
  {
   "cell_type": "markdown",
   "id": "9a7c85b5",
   "metadata": {},
   "source": [
    "A.\n",
    "int(int('3' * 2) / 11)= \n",
    "\n",
    "int(int(\"33\")/11)=\n",
    "\n",
    "int(33/11)=\n",
    "\n",
    "3\n",
    "\n",
    "so, spam[3]='d'\n"
   ]
  },
  {
   "cell_type": "code",
   "execution_count": 4,
   "id": "9a8fa450",
   "metadata": {},
   "outputs": [
    {
     "data": {
      "text/plain": [
       "'d'"
      ]
     },
     "execution_count": 4,
     "metadata": {},
     "output_type": "execute_result"
    }
   ],
   "source": [
    "# proof\n",
    "spam[int(int('3'*2)/11)]"
   ]
  },
  {
   "cell_type": "markdown",
   "id": "abba6340",
   "metadata": {},
   "source": [
    " "
   ]
  },
  {
   "cell_type": "markdown",
   "id": "811a6704",
   "metadata": {},
   "source": [
    "4. What is the value of spam[-1]?"
   ]
  },
  {
   "cell_type": "markdown",
   "id": "c3490789",
   "metadata": {},
   "source": [
    "A. the index of -1 means the last element so in spam list the last element 'd' is the output"
   ]
  },
  {
   "cell_type": "code",
   "execution_count": 5,
   "id": "ec79ba08",
   "metadata": {},
   "outputs": [
    {
     "data": {
      "text/plain": [
       "'d'"
      ]
     },
     "execution_count": 5,
     "metadata": {},
     "output_type": "execute_result"
    }
   ],
   "source": [
    "#proof\n",
    "spam[-1]"
   ]
  },
  {
   "cell_type": "markdown",
   "id": "11f0e057",
   "metadata": {},
   "source": [
    " "
   ]
  },
  {
   "cell_type": "markdown",
   "id": "3fed8655",
   "metadata": {},
   "source": [
    "5. What is the value of spam[:2]?"
   ]
  },
  {
   "cell_type": "markdown",
   "id": "67d7edc4",
   "metadata": {},
   "source": [
    "A. spam[:2] means all values all value till 1st index it excludes the which gives 'a','b'"
   ]
  },
  {
   "cell_type": "code",
   "execution_count": 6,
   "id": "a1b9ec7d",
   "metadata": {},
   "outputs": [
    {
     "data": {
      "text/plain": [
       "['a', 'b']"
      ]
     },
     "execution_count": 6,
     "metadata": {},
     "output_type": "execute_result"
    }
   ],
   "source": [
    "#proof \n",
    "spam[:2]"
   ]
  },
  {
   "cell_type": "markdown",
   "id": "f000f2d4",
   "metadata": {},
   "source": [
    " "
   ]
  },
  {
   "cell_type": "markdown",
   "id": "21a203d0",
   "metadata": {},
   "source": [
    "## Let's pretend bacon has the list [3.14, 'cat,' 11, 'cat,' True] for the next three questions."
   ]
  },
  {
   "cell_type": "code",
   "execution_count": 7,
   "id": "fbcbb793",
   "metadata": {},
   "outputs": [],
   "source": [
    "bacon=[3.14,'cat',11,'cat',True]"
   ]
  },
  {
   "cell_type": "markdown",
   "id": "f87e5a87",
   "metadata": {},
   "source": [
    "6. What is the value of bacon.index('cat')?"
   ]
  },
  {
   "cell_type": "markdown",
   "id": "f2f8eaac",
   "metadata": {},
   "source": [
    "A. index() is an inbuilt method of list that returns the index of the particular parameter passed into it\n",
    "so as 'cat' is passed as the index it returns 1 . even though there is redundant data index\n",
    "returns the first encounterd index value"
   ]
  },
  {
   "cell_type": "code",
   "execution_count": 8,
   "id": "f3c0db16",
   "metadata": {},
   "outputs": [
    {
     "data": {
      "text/plain": [
       "1"
      ]
     },
     "execution_count": 8,
     "metadata": {},
     "output_type": "execute_result"
    }
   ],
   "source": [
    "#proof\n",
    "bacon.index('cat')"
   ]
  },
  {
   "cell_type": "markdown",
   "id": "d983b278",
   "metadata": {},
   "source": [
    " "
   ]
  },
  {
   "cell_type": "markdown",
   "id": "1966a8af",
   "metadata": {},
   "source": [
    "7. How does bacon.append(99) change the look of the list value in bacon?"
   ]
  },
  {
   "cell_type": "markdown",
   "id": "35f243cf",
   "metadata": {},
   "source": [
    "A. from the name itself we come to know append append data to the list \n",
    "so when we write bacon.append(99) means we are appending 99 value to the list \n",
    "so previously bacon list\n",
    "[3.14,'cat',11,'cat',True]\n",
    "now,\n",
    "[3.14,'cat',11,'cat',True,99] after bacon.append(99)"
   ]
  },
  {
   "cell_type": "code",
   "execution_count": 9,
   "id": "9837f296",
   "metadata": {},
   "outputs": [
    {
     "name": "stdout",
     "output_type": "stream",
     "text": [
      "[3.14, 'cat', 11, 'cat', True]\n",
      "[3.14, 'cat', 11, 'cat', True, 99]\n"
     ]
    }
   ],
   "source": [
    "#proof\n",
    "print(bacon)\n",
    "bacon.append(99)\n",
    "print(bacon)"
   ]
  },
  {
   "cell_type": "markdown",
   "id": "d2a3d0ff",
   "metadata": {},
   "source": [
    " "
   ]
  },
  {
   "cell_type": "markdown",
   "id": "eb256683",
   "metadata": {},
   "source": [
    "8. How does bacon.remove('cat') change the look of the list in bacon?"
   ]
  },
  {
   "cell_type": "markdown",
   "id": "f22f80c5",
   "metadata": {},
   "source": [
    "A. \n",
    "bacon.remove() is the method used to removbe a value form the list this value is passed as the parameter \n",
    "to the remove method so this method also removes the first encountered index value only event \n",
    "though there is a redundancy in the list"
   ]
  },
  {
   "cell_type": "code",
   "execution_count": 10,
   "id": "74e73591",
   "metadata": {},
   "outputs": [
    {
     "name": "stdout",
     "output_type": "stream",
     "text": [
      "[3.14, 'cat', 11, 'cat', True, 99]\n",
      "[3.14, 11, 'cat', True, 99]\n"
     ]
    }
   ],
   "source": [
    "# proof\n",
    "print(bacon)\n",
    "bacon.remove('cat')\n",
    "print(bacon)"
   ]
  },
  {
   "cell_type": "markdown",
   "id": "36e5fe22",
   "metadata": {},
   "source": [
    " "
   ]
  },
  {
   "cell_type": "markdown",
   "id": "d0ff3af9",
   "metadata": {},
   "source": [
    "9. What are the list concatenation and list replication operators?"
   ]
  },
  {
   "cell_type": "markdown",
   "id": "86ee9ebb",
   "metadata": {},
   "source": [
    "A. for list concatenation we use + operator .for list replication we use * operator"
   ]
  },
  {
   "cell_type": "code",
   "execution_count": 11,
   "id": "d7f0d67f",
   "metadata": {},
   "outputs": [
    {
     "name": "stdout",
     "output_type": "stream",
     "text": [
      "['hai', 'hello', 'howdy', 4, 5, 6]\n",
      "['hai', 'hello', 'howdy', 'hai', 'hello', 'howdy', 'hai', 'hello', 'howdy']\n"
     ]
    }
   ],
   "source": [
    "#proof\n",
    "list1=[\"hai\",\"hello\",\"howdy\"]\n",
    "list2=[4,5,6]\n",
    "print(list1+list2)#list concat operation\n",
    "print(list1*3)"
   ]
  },
  {
   "cell_type": "markdown",
   "id": "5a42250e",
   "metadata": {},
   "source": [
    " "
   ]
  },
  {
   "cell_type": "markdown",
   "id": "9ac98478",
   "metadata": {},
   "source": [
    "10. What is difference between the list methods append() and insert()?"
   ]
  },
  {
   "cell_type": "markdown",
   "id": "a20b45d3",
   "metadata": {},
   "source": [
    "A. append() takes an element as parameter and append to the end of an existing list\n",
    "like example if a list a=[1,2] now if i do a.append(3) this 3 element added to the end of the list\n",
    "\n",
    "whereas insert() method takes 2 parameters index and value here we can add our element at out\n",
    "as per our respective index values "
   ]
  },
  {
   "cell_type": "code",
   "execution_count": 12,
   "id": "a82e2037",
   "metadata": {},
   "outputs": [
    {
     "name": "stdout",
     "output_type": "stream",
     "text": [
      "[1, 2, 3]\n",
      "['hello', 1, 2, 3]\n"
     ]
    }
   ],
   "source": [
    "#proof\n",
    "a=[1,2]\n",
    "a.append(3)\n",
    "print(a)\n",
    "a.insert(0,\"hello\")\n",
    "print(a)"
   ]
  },
  {
   "cell_type": "markdown",
   "id": "dc2b0447",
   "metadata": {},
   "source": [
    " "
   ]
  },
  {
   "cell_type": "markdown",
   "id": "e6c06c59",
   "metadata": {},
   "source": [
    "11. What are the two methods for removing items from a list?"
   ]
  },
  {
   "cell_type": "markdown",
   "id": "7c0dedac",
   "metadata": {},
   "source": [
    "A. remove() and pop() are the 2 methods to remove itemes from the list"
   ]
  },
  {
   "cell_type": "code",
   "execution_count": 13,
   "id": "847932a5",
   "metadata": {},
   "outputs": [
    {
     "name": "stdout",
     "output_type": "stream",
     "text": [
      "[1, 2, 4, 5]\n",
      "[1, 2, 5]\n"
     ]
    }
   ],
   "source": [
    "#proof\n",
    "a=[1,2,3,4,5]\n",
    "a.remove(3)#depends on value\n",
    "print(a)\n",
    "a.pop(2)#depends on index\n",
    "print(a)"
   ]
  },
  {
   "cell_type": "markdown",
   "id": "09ee4a51",
   "metadata": {},
   "source": [
    " "
   ]
  },
  {
   "cell_type": "markdown",
   "id": "55f4789f",
   "metadata": {},
   "source": [
    "12. Describe how list values and string values are identical."
   ]
  },
  {
   "cell_type": "markdown",
   "id": "7baf194d",
   "metadata": {},
   "source": [
    "A.\n",
    "Both lists and strings can be passed to len() function, have indexes and slices, be used in for loops, be concatenated or replicated, and be used with the `in` and `not in` operators"
   ]
  },
  {
   "cell_type": "markdown",
   "id": "e8f6806b",
   "metadata": {},
   "source": [
    " "
   ]
  },
  {
   "cell_type": "markdown",
   "id": "7d97b9d2",
   "metadata": {},
   "source": [
    "13. What's the difference between tuples and lists?"
   ]
  },
  {
   "cell_type": "markdown",
   "id": "ea15b03e",
   "metadata": {},
   "source": [
    "A. list are mutable , tuples are imutable \n",
    "list uses [] structure\n",
    "tuple uses () structure\n",
    "lists can be sliced indexed and elements can be changed \n",
    "where as in tuple we can slice ,indexing access can be done but the content of tuple cant be changed once \n",
    "defined"
   ]
  },
  {
   "cell_type": "markdown",
   "id": "cf0cad2a",
   "metadata": {},
   "source": [
    " "
   ]
  },
  {
   "cell_type": "markdown",
   "id": "cef1953e",
   "metadata": {},
   "source": [
    "14. How do you type a tuple value that only contains the integer 42?"
   ]
  },
  {
   "cell_type": "markdown",
   "id": "acd73744",
   "metadata": {},
   "source": [
    "A. (42,) here The trailing comma is mandatory. or else its considered as a int by python Interpreter"
   ]
  },
  {
   "cell_type": "code",
   "execution_count": 14,
   "id": "75c7c868",
   "metadata": {},
   "outputs": [
    {
     "name": "stdout",
     "output_type": "stream",
     "text": [
      "<class 'int'>\n",
      "<class 'tuple'>\n"
     ]
    }
   ],
   "source": [
    "#proof\n",
    "print(type((42)))\n",
    "print(type((42,)))"
   ]
  },
  {
   "cell_type": "markdown",
   "id": "b94a87df",
   "metadata": {},
   "source": [
    "\n"
   ]
  },
  {
   "cell_type": "markdown",
   "id": "0ac174d9",
   "metadata": {},
   "source": [
    "15. How do you get a list value's tuple form? How do you get a tuple value's list form?"
   ]
  },
  {
   "cell_type": "markdown",
   "id": "ed70f7a2",
   "metadata": {},
   "source": [
    "A. The tuple() and list() functions, respectively are used to convert a list to tuple and vice versa"
   ]
  },
  {
   "cell_type": "markdown",
   "id": "a2e6752b",
   "metadata": {},
   "source": [
    " "
   ]
  },
  {
   "cell_type": "markdown",
   "id": "f81ecabf",
   "metadata": {},
   "source": [
    "16. Variables that \"contain\" list values are not necessarily lists themselves. Instead, what do they contain?"
   ]
  },
  {
   "cell_type": "markdown",
   "id": "b871cd39",
   "metadata": {},
   "source": [
    "A. there contain the references of the contents present in the list"
   ]
  },
  {
   "cell_type": "markdown",
   "id": "b5638f87",
   "metadata": {},
   "source": [
    " "
   ]
  },
  {
   "cell_type": "markdown",
   "id": "814ebb47",
   "metadata": {},
   "source": [
    "17. How do you distinguish between copy.copy() and copy.deepcopy()?"
   ]
  },
  {
   "cell_type": "markdown",
   "id": "d8bdc342",
   "metadata": {},
   "source": [
    "A.\n",
    "copy.copy() copy constructs a new compound object and then (to the extent possible) inserts references into it to the objects found in the original.\n",
    "copy.deepcopy() constructs a new compound object and then, recursively, inserts copies into it of the objects found in the original."
   ]
  }
 ],
 "metadata": {
  "kernelspec": {
   "display_name": "Python 3 (ipykernel)",
   "language": "python",
   "name": "python3"
  },
  "language_info": {
   "codemirror_mode": {
    "name": "ipython",
    "version": 3
   },
   "file_extension": ".py",
   "mimetype": "text/x-python",
   "name": "python",
   "nbconvert_exporter": "python",
   "pygments_lexer": "ipython3",
   "version": "3.9.7"
  }
 },
 "nbformat": 4,
 "nbformat_minor": 5
}
